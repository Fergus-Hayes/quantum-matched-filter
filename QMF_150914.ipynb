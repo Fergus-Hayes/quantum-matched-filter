{
 "cells": [
  {
   "cell_type": "markdown",
   "metadata": {},
   "source": [
    "# Grover's Algorithm and Matched Filtering\n",
    "\n",
    "Here we will consider trying to find the frequency of a sine wave signal from amongst a number of known frequencies when the signal start time and amplitudes are known. Time domain data $\\mathcal{D}$ of length $N$ is taken from the signal and compared to $M$ templates $\\mathcal{T}$ of sine waves of known frequencies equally spaced out in the frequency space of interest. The signals are discretized with a precision dependent on $F$. The number of times Grover's algorithm is applied is dependent on $P$.\n",
    "\n"
   ]
  },
  {
   "cell_type": "code",
   "execution_count": 1,
   "metadata": {},
   "outputs": [],
   "source": [
    "# Import necessary packages\n",
    "import numpy as np\n",
    "import matplotlib.pyplot as plt\n",
    "from pycbc.waveform import get_td_waveform\n",
    "from pycbc.filter import matched_filter, make_frequency_series\n",
    "from pycbc.types import TimeSeries, FrequencySeries\n",
    "import time, os\n",
    "\n",
    "# Set the random number generator seed \n",
    "np.random.seed(int(time.time()))"
   ]
  },
  {
   "cell_type": "code",
   "execution_count": 2,
   "metadata": {},
   "outputs": [
    {
     "name": "stdout",
     "output_type": "stream",
     "text": [
      "32769 65536\n"
     ]
    }
   ],
   "source": [
    "SNR = 8.\n",
    "\n",
    "Data = np.load('signal.npy')\n",
    "psd = np.load('psd.npy')\n",
    "\n",
    "print(len(Data),len(np.fft.irfft(Data)))"
   ]
  },
  {
   "cell_type": "code",
   "execution_count": 3,
   "metadata": {},
   "outputs": [
    {
     "data": {
      "image/png": "[encoded data removed]",
      "text/plain": [
       "<Figure size 432x288 with 1 Axes>"
      ]
     },
     "metadata": {
      "needs_background": "light"
     },
     "output_type": "display_data"
    }
   ],
   "source": [
    "plt.plot(np.fft.irfft(Data))\n",
    "plt.title('Figure 1')\n",
    "plt.xlabel('time steps')\n",
    "plt.ylabel('strain')\n",
    "plt.show()"
   ]
  },
  {
   "cell_type": "code",
   "execution_count": 4,
   "metadata": {},
   "outputs": [],
   "source": [
    "# Qubits for templates\n",
    "Mqubits = 8\n",
    "# Qubits for Grover's\n",
    "Pqubits = 4"
   ]
  },
  {
   "cell_type": "code",
   "execution_count": 5,
   "metadata": {},
   "outputs": [],
   "source": [
    "# N is the number of data points\n",
    "N = len(Data)\n",
    "# Number of templates\n",
    "M = int(2**(Mqubits))\n",
    "# Number of states in ancillary register\n",
    "P = int(2**(Pqubits))"
   ]
  },
  {
   "cell_type": "code",
   "execution_count": 6,
   "metadata": {},
   "outputs": [],
   "source": [
    "# Generate indicies over time\n",
    "n_inds = np.arange(N)\n",
    "# Generate indicies over templates\n",
    "m_inds = np.arange(M)\n",
    "# Create indicies for each Grover's iteration\n",
    "p_inds = np.arange(P)"
   ]
  },
  {
   "cell_type": "markdown",
   "metadata": {},
   "source": [
    "The signal sine wave signal looks like:"
   ]
  },
  {
   "cell_type": "markdown",
   "metadata": {},
   "source": [
    "First let us make the state:\n",
    "\n",
    "$$ |\\psi_{\\text{ini}}⟩ = \\frac{1}{\\sqrt{FNM}}\\sum^{F-1}_{f=0}\\sum^{N-1}_{n=0}\\sum^{M-1}_{m=0}|f⟩|n⟩|m⟩. $$"
   ]
  },
  {
   "cell_type": "code",
   "execution_count": 7,
   "metadata": {},
   "outputs": [],
   "source": [
    "# Initiating the joint states across float, time and template qubits\n",
    "initial_states = np.ones((N,M))/np.sqrt(M)"
   ]
  },
  {
   "cell_type": "code",
   "execution_count": 8,
   "metadata": {},
   "outputs": [],
   "source": [
    "def mass_to_waveforms(initial_states, m_low=15., m_high=50., f_low=40., noise=1, dt=1./4096):\n",
    "    '''\n",
    "    Make wavforms from index\n",
    "    ''' \n",
    "    N, M = initial_states.shape[0], initial_states.shape[1]\n",
    "        \n",
    "    dm = (m_high-m_low)/np.floor(np.sqrt(2.*M))\n",
    "    m1s = np.arange(m_low,m_high,dm)\n",
    "    templates = []\n",
    "    i=0 \n",
    "    for m1 in m1s:\n",
    "        m2 = m1\n",
    "        while m2<m_high and i<M:\n",
    "            waveform_ = get_td_waveform(approximant=\"IMRPhenomPv3\",\n",
    "                                 mass1=float(m1),\n",
    "                                 mass2=float(m2),\n",
    "                                 spin1z=0.,\n",
    "                                 spin2z=0.,\n",
    "                                 delta_t=dt,\n",
    "                                 f_lower=f_low)\n",
    "            \n",
    "            waveform_[0].resize(int(2*(N - 1)))\n",
    "            template = np.array(make_frequency_series(TimeSeries(waveform_[0],delta_t=dt)))\n",
    "            templates.append(template)\n",
    "            m2+=dm\n",
    "            i+=1\n",
    "    return np.array(templates).T"
   ]
  },
  {
   "cell_type": "code",
   "execution_count": 9,
   "metadata": {},
   "outputs": [],
   "source": [
    "def k_1(initial_states):\n",
    "    '''\n",
    "    This function takes the joint states and produces the template states.\n",
    "    '''\n",
    "    return mass_to_waveforms(initial_states)"
   ]
  },
  {
   "cell_type": "markdown",
   "metadata": {},
   "source": [
    "The template states are made by applying $\\hat{k}_{1}$ to $|\\psi_{\\text{ini}}⟩$:\n",
    "\n",
    "$$|T⟩ = \\hat{k}_{1}|\\psi_{\\text{ini}}⟩.$$"
   ]
  },
  {
   "cell_type": "code",
   "execution_count": 10,
   "metadata": {},
   "outputs": [],
   "source": [
    "# Apply k1 to form the templates\n",
    "Templates = k_1(initial_states)"
   ]
  },
  {
   "cell_type": "code",
   "execution_count": 11,
   "metadata": {},
   "outputs": [],
   "source": [
    "M = Templates.shape[1]\n",
    "# Generate indicies over templates\n",
    "m_inds = np.arange(M)"
   ]
  },
  {
   "cell_type": "markdown",
   "metadata": {},
   "source": [
    "We can see what the templates look like:"
   ]
  },
  {
   "cell_type": "code",
   "execution_count": 12,
   "metadata": {},
   "outputs": [
    {
     "data": {
      "image/png": "[encoded data removed]",
      "text/plain": [
       "<Figure size 432x288 with 1 Axes>"
      ]
     },
     "metadata": {
      "needs_background": "light"
     },
     "output_type": "display_data"
    }
   ],
   "source": [
    "plt.title('Figure 2')\n",
    "plt.xlabel('x')\n",
    "plt.ylabel('f(x)')\n",
    "for m in m_inds:\n",
    "    plt.plot(np.real(np.fft.irfft(Templates[:,m])), alpha=0.2, lw=2.)\n",
    "plt.show()"
   ]
  },
  {
   "cell_type": "code",
   "execution_count": 13,
   "metadata": {},
   "outputs": [],
   "source": [
    "def k_2(Templates, Data, threshold=12, dt=1./4096):\n",
    "    '''\n",
    "    k_2 compares the templates to data and produces a state \"w\" that is in\n",
    "    equal superposition across all states, but with a phase flip of \"-1\" infront\n",
    "    of a template index that matches the data.\n",
    "    '''\n",
    "    N, M = Templates.shape[0], Templates.shape[1]\n",
    "    w = np.ones(M)/np.sqrt(M)\n",
    "    psd = np.load('psd.npy')\n",
    "    freqs = np.fft.fftfreq(2*(N-1))*1./dt\n",
    "    df = np.abs(freqs[1]-freqs[0])\n",
    "    \n",
    "    for m in np.arange(M):\n",
    "        SNR = np.array(matched_filter(FrequencySeries(Templates[:,m], delta_f=df),\n",
    "                        FrequencySeries(Data, delta_f=df),\n",
    "                        FrequencySeries(psd, delta_f=df)))\n",
    "        print(np.max(np.abs(SNR)))\n",
    "        if np.any(np.abs(SNR)>=threshold):\n",
    "            w[m]=w[m]*-1\n",
    "    return w"
   ]
  },
  {
   "cell_type": "markdown",
   "metadata": {},
   "source": [
    "$|w⟩$ is made by applying $\\hat{k}_{2}$ to $|T⟩\\otimes|D⟩$:\n",
    "\n",
    "$$|w⟩ = \\hat{k}_{2}(|T⟩\\otimes|D⟩).$$"
   ]
  },
  {
   "cell_type": "code",
   "execution_count": 14,
   "metadata": {},
   "outputs": [
    {
     "name": "stdout",
     "output_type": "stream",
     "text": [
      "7.692446182750973\n",
      "9.312145933244919\n",
      "10.106327951220221\n",
      "9.676448138244044\n",
      "9.492454997521095\n",
      "10.107963647891687\n",
      "10.699993460022863\n",
      "10.976324328935712\n",
      "11.178031832743933\n",
      "11.559338524687382\n",
      "11.978526757864431\n",
      "12.185927422265216\n",
      "12.167216981754756\n",
      "12.04978893519413\n",
      "12.12403935838439\n",
      "12.585700765068232\n",
      "13.367286299292708\n",
      "14.26949918107126\n",
      "15.150913114932354\n",
      "15.952717517960766\n",
      "16.61596964062889\n",
      "17.15550459749836\n",
      "10.08318453730417\n",
      "9.58748791014979\n",
      "9.53557415248196\n",
      "10.236946585714746\n",
      "10.76135036887136\n",
      "10.989199100811119\n",
      "11.2865825480175\n",
      "11.74081262076824\n",
      "12.088602035426225\n",
      "12.206070571396495\n",
      "12.108725759259613\n",
      "12.030003180283042\n",
      "12.284119598271584\n",
      "12.956717548530566\n",
      "13.839635126465879\n",
      "14.776185676048945\n",
      "15.650516216096644\n",
      "16.390012529578293\n",
      "17.021278638520997\n",
      "17.50517926863152\n",
      "17.86981911690223\n",
      "9.55397892713869\n",
      "10.292249367636684\n",
      "10.781586607670077\n",
      "10.990576676804508\n",
      "11.360506119735916\n",
      "11.85101504030875\n",
      "12.149483925485\n",
      "12.167092102830972\n",
      "12.038883581778302\n",
      "12.069623176707697\n",
      "12.50716057151508\n",
      "13.319077680935248\n",
      "14.265153754900645\n",
      "15.195064425247093\n",
      "16.020678000164196\n",
      "16.748520250595135\n",
      "17.31505934233692\n",
      "17.773317026036437\n",
      "18.100495174219\n",
      "18.32291398976726\n",
      "10.785545108392077\n",
      "11.006233472655655\n",
      "11.42449914410854\n",
      "11.906849617041031\n",
      "12.16697930031664\n",
      "12.12795080436999\n",
      "12.012143405250308\n",
      "12.14683044165093\n",
      "12.737503123149434\n",
      "13.619255962531648\n",
      "14.590466328627656\n",
      "15.520158935464874\n",
      "16.331074049344824\n",
      "17.000481233386722\n",
      "17.55328613501844\n",
      "17.965891153569874\n",
      "18.274237090207656\n",
      "18.474440553506838\n",
      "18.58784485854683\n",
      "11.44504770568565\n",
      "11.930416780053982\n",
      "12.16603056846083\n",
      "12.09888728713481\n",
      "11.986131238900956\n",
      "12.220383496281274\n",
      "12.919457230056091\n",
      "13.886107325532393\n",
      "14.872525875016246\n",
      "15.767482845049175\n",
      "16.56016808446185\n",
      "17.204650644574503\n",
      "17.720707056779233\n",
      "18.1150995045152\n",
      "18.400722896852667\n",
      "18.587957311410918\n",
      "18.68568582906259\n",
      "18.72115607700497\n",
      "12.163767587425088\n",
      "12.080833284141004\n",
      "11.985219932269219\n",
      "12.295671379353632\n",
      "13.076320133587595\n",
      "14.076560870532255\n",
      "15.076838029770963\n",
      "15.97298608779995\n",
      "16.72089093082419\n",
      "17.36013085965885\n",
      "17.83875351259063\n",
      "18.224549659561347\n",
      "18.49022343432385\n",
      "18.67053063596404\n",
      "18.764214559183717\n",
      "18.780177383048365\n",
      "18.761905320095995\n",
      "11.98676561886328\n",
      "12.33261665572427\n",
      "13.168383069914173\n",
      "14.19859294567856\n",
      "15.214719795196137\n",
      "16.115537753234467\n",
      "16.856797161303433\n",
      "17.46366194586405\n",
      "17.942000895999215\n",
      "18.283644148312078\n",
      "18.56273197734627\n",
      "18.722486998378884\n",
      "18.81735517151877\n",
      "18.840369205950783\n",
      "18.792912693597454\n",
      "18.735643302351562\n",
      "13.198684490097714\n",
      "14.258030184380925\n",
      "15.294082989293107\n",
      "16.20493596753115\n",
      "16.950142021325643\n",
      "17.52914097364943\n",
      "18.006666609106283\n",
      "18.350997785772208\n",
      "18.595555623261397\n",
      "18.772436596386903\n",
      "18.84747121468386\n",
      "18.874194360113446\n",
      "18.84571448632917\n",
      "18.75984239197756\n",
      "18.662250832116293\n",
      "15.319963056745186\n",
      "16.24789402819966\n",
      "17.002934400025595\n",
      "17.584526085969213\n",
      "18.04464554458215\n",
      "18.39230025551768\n",
      "18.622920254585893\n",
      "18.79152213537773\n",
      "18.883589674132825\n",
      "18.893110465026393\n",
      "18.86588351789378\n",
      "18.79908031331533\n",
      "18.690114735746086\n",
      "18.554081897300318\n",
      "17.019995251228135\n",
      "17.612410446810017\n",
      "18.064105527131684\n",
      "18.41400235405147\n",
      "18.65036235667726\n",
      "18.79326450700482\n",
      "18.895890922892544\n",
      "18.920670855212464\n",
      "18.88088609789639\n",
      "18.80922648976625\n",
      "18.715343643361237\n",
      "18.59006879284044\n",
      "18.445037650332427\n",
      "18.070023831743722\n",
      "18.423118348982413\n",
      "18.663373430208466\n",
      "18.810344585197587\n",
      "18.895705703961372\n",
      "18.929827760029287\n",
      "18.902787391389772\n",
      "18.82437442908578\n",
      "18.718463213246388\n",
      "18.604220501375693\n",
      "18.468565995673814\n",
      "18.320901039216338\n",
      "18.66713480204322\n",
      "18.81836025104071\n",
      "18.891917002612086\n",
      "18.930159793651143\n",
      "18.910683727218537\n",
      "18.84185876202629\n",
      "18.736705641247067\n",
      "18.604893002881205\n",
      "18.473783913553433\n",
      "18.332408816606936\n",
      "18.185003942259083\n",
      "18.893489404019864\n",
      "18.92854162286515\n",
      "18.912173779030162\n",
      "18.848777488823462\n",
      "18.750264449306975\n",
      "18.625670361280626\n",
      "18.48275291662846\n",
      "18.33091539067636\n",
      "18.187098203168315\n",
      "18.041386165657325\n",
      "18.912114022522225\n",
      "18.850738111703038\n",
      "18.755795522504776\n",
      "18.63573640059575\n",
      "18.497505789713586\n",
      "18.34949093658842\n",
      "18.19762269429354\n",
      "18.04578970355751\n",
      "17.897409284716222\n",
      "18.75718920311289\n",
      "18.63957680072368\n",
      "18.504320237225038\n",
      "18.359182755036468\n",
      "18.209902789443404\n",
      "18.06014235691957\n",
      "17.913401910469606\n",
      "17.77110856897326\n",
      "18.506237482345107\n",
      "18.36310238957003\n",
      "18.215631616536648\n",
      "18.06726551522166\n",
      "17.921463276758647\n",
      "17.779905858480884\n",
      "17.64323494640841\n",
      "18.21725893329143\n",
      "18.070062490685064\n",
      "17.92490439298175\n",
      "17.78358885491658\n",
      "17.64708272878013\n",
      "17.514837209714358\n",
      "17.92581318879581\n",
      "17.784757614558025\n",
      "17.6481061428385\n",
      "17.515677487136497\n",
      "17.386619916584674\n",
      "17.648230763049185\n",
      "17.515466814903572\n",
      "17.385952510058967\n",
      "17.25983670898129\n",
      "17.13960434551155\n",
      "17.385528210037887\n",
      "17.264409198939873\n",
      "17.14597787837194\n",
      "17.026973770351752\n",
      "17.1479292693689\n",
      "17.03047256690444\n",
      "16.91299492669124\n",
      "16.914409940357483\n"
     ]
    }
   ],
   "source": [
    "# Compare the templates to the data to get states w\n",
    "w = k_2(Templates, Data, threshold=SNR)"
   ]
  },
  {
   "cell_type": "code",
   "execution_count": 15,
   "metadata": {},
   "outputs": [
    {
     "name": "stdout",
     "output_type": "stream",
     "text": [
      "[ 0.0625 -0.0625 -0.0625 -0.0625 -0.0625 -0.0625 -0.0625 -0.0625 -0.0625\n",
      " -0.0625 -0.0625 -0.0625 -0.0625 -0.0625 -0.0625 -0.0625 -0.0625 -0.0625\n",
      " -0.0625 -0.0625 -0.0625 -0.0625 -0.0625 -0.0625 -0.0625 -0.0625 -0.0625\n",
      " -0.0625 -0.0625 -0.0625 -0.0625 -0.0625 -0.0625 -0.0625 -0.0625 -0.0625\n",
      " -0.0625 -0.0625 -0.0625 -0.0625 -0.0625 -0.0625 -0.0625 -0.0625 -0.0625\n",
      " -0.0625 -0.0625 -0.0625 -0.0625 -0.0625 -0.0625 -0.0625 -0.0625 -0.0625\n",
      " -0.0625 -0.0625 -0.0625 -0.0625 -0.0625 -0.0625 -0.0625 -0.0625 -0.0625\n",
      " -0.0625 -0.0625 -0.0625 -0.0625 -0.0625 -0.0625 -0.0625 -0.0625 -0.0625\n",
      " -0.0625 -0.0625 -0.0625 -0.0625 -0.0625 -0.0625 -0.0625 -0.0625 -0.0625\n",
      " -0.0625 -0.0625 -0.0625 -0.0625 -0.0625 -0.0625 -0.0625 -0.0625 -0.0625\n",
      " -0.0625 -0.0625 -0.0625 -0.0625 -0.0625 -0.0625 -0.0625 -0.0625 -0.0625\n",
      " -0.0625 -0.0625 -0.0625 -0.0625 -0.0625 -0.0625 -0.0625 -0.0625 -0.0625\n",
      " -0.0625 -0.0625 -0.0625 -0.0625 -0.0625 -0.0625 -0.0625 -0.0625 -0.0625\n",
      " -0.0625 -0.0625 -0.0625 -0.0625 -0.0625 -0.0625 -0.0625 -0.0625 -0.0625\n",
      " -0.0625 -0.0625 -0.0625 -0.0625 -0.0625 -0.0625 -0.0625 -0.0625 -0.0625\n",
      " -0.0625 -0.0625 -0.0625 -0.0625 -0.0625 -0.0625 -0.0625 -0.0625 -0.0625\n",
      " -0.0625 -0.0625 -0.0625 -0.0625 -0.0625 -0.0625 -0.0625 -0.0625 -0.0625\n",
      " -0.0625 -0.0625 -0.0625 -0.0625 -0.0625 -0.0625 -0.0625 -0.0625 -0.0625\n",
      " -0.0625 -0.0625 -0.0625 -0.0625 -0.0625 -0.0625 -0.0625 -0.0625 -0.0625\n",
      " -0.0625 -0.0625 -0.0625 -0.0625 -0.0625 -0.0625 -0.0625 -0.0625 -0.0625\n",
      " -0.0625 -0.0625 -0.0625 -0.0625 -0.0625 -0.0625 -0.0625 -0.0625 -0.0625\n",
      " -0.0625 -0.0625 -0.0625 -0.0625 -0.0625 -0.0625 -0.0625 -0.0625 -0.0625\n",
      " -0.0625 -0.0625 -0.0625 -0.0625 -0.0625 -0.0625 -0.0625 -0.0625 -0.0625\n",
      " -0.0625 -0.0625 -0.0625 -0.0625 -0.0625 -0.0625 -0.0625 -0.0625 -0.0625\n",
      " -0.0625 -0.0625 -0.0625 -0.0625 -0.0625 -0.0625 -0.0625 -0.0625 -0.0625\n",
      " -0.0625 -0.0625 -0.0625 -0.0625 -0.0625 -0.0625 -0.0625 -0.0625 -0.0625\n",
      " -0.0625 -0.0625 -0.0625 -0.0625 -0.0625 -0.0625 -0.0625 -0.0625 -0.0625\n",
      " -0.0625 -0.0625 -0.0625 -0.0625 -0.0625 -0.0625 -0.0625 -0.0625 -0.0625\n",
      " -0.0625 -0.0625 -0.0625 -0.0625]\n"
     ]
    }
   ],
   "source": [
    "print(w)"
   ]
  },
  {
   "cell_type": "markdown",
   "metadata": {},
   "source": [
    "Then we make the state:\n",
    "\n",
    "$$ |\\psi_{0}⟩ = \\frac{1}{\\sqrt{PM}}\\sum^{P-1}_{p=0}\\sum^{M-1}_{m=0}|p⟩|m⟩. $$\n",
    "\n",
    "This is equivalent of the state $|s⟩$ previously made, but $P$ times."
   ]
  },
  {
   "cell_type": "code",
   "execution_count": 16,
   "metadata": {},
   "outputs": [
    {
     "name": "stdout",
     "output_type": "stream",
     "text": [
      "(256, 16)\n"
     ]
    }
   ],
   "source": [
    "# Initialising joint state psi_0 which we apply Grover's algorithm over given w\n",
    "psi_0 = np.ones((M,P))/np.sqrt(M*P)\n",
    "print(psi_0.shape)"
   ]
  },
  {
   "cell_type": "markdown",
   "metadata": {},
   "source": [
    "The first part of Grover's algorithm is then applied as follows:\n",
    "\n",
    "1. Create operator $\\hat{U}_{w}=\\mathcal{I}-2|w⟩⟨w|$ where $w$ is the matrix position corresponding to the matching templates. This operator has the property:\n",
    "\n",
    "$$ \\hat{U}_{w} |x⟩ = -|x⟩ \\text{ if } x=w, $$\n",
    "$$ \\hat{U}_{w} |x⟩ = |x⟩ \\text{ if } x\\ne w.\\ \\ \\$$\n",
    "\n",
    "2. Initiate superposition:\n",
    "\n",
    "$$ |s⟩ = \\frac{1}{\\sqrt{M}}\\sum^{M-1}_{x=0}|x⟩, $$\n",
    "\n",
    "assuming that every template is equally likely to have the correct template without any more prior knowledge.\n",
    "\n",
    "3. Create the Grover diffusion operator $\\hat{U}_{s}=2|s⟩⟨s|-\\mathcal{I}$.\n",
    "\n",
    "4. Apply $\\hat{U}_{w}$ then $\\hat{U}_{s}$ to $|s⟩$ $p$ times to each state in $P$ ($p=\\{0,1,...P-1\\}$)."
   ]
  },
  {
   "cell_type": "code",
   "execution_count": 17,
   "metadata": {},
   "outputs": [],
   "source": [
    "def U_w(w):\n",
    "    '''\n",
    "    Defines the matrix operation applied to psi_0 given w.\n",
    "    This operator flips the phase of a state that corresponds to w.\n",
    "    '''\n",
    "    M = len(w)\n",
    "    return np.sqrt(M)*np.multiply(np.eye(M),w)"
   ]
  },
  {
   "cell_type": "code",
   "execution_count": 18,
   "metadata": {},
   "outputs": [],
   "source": [
    "def U_s(w):\n",
    "    '''\n",
    "    Defines the matrix operation applied to psi_0 given w.\n",
    "    This is \"Grovers diffusion operator\". \n",
    "    '''\n",
    "    M = len(w)\n",
    "    s_i = np.array([np.ones(M)/np.sqrt(M)]).T\n",
    "    return 2*np.outer(s_i,s_i)-np.eye(M)"
   ]
  },
  {
   "cell_type": "code",
   "execution_count": 19,
   "metadata": {},
   "outputs": [],
   "source": [
    "def Grovers1(w, psi_0):\n",
    "    '''\n",
    "    This corresponds to the first part of Grovers algorithm.\n",
    "    Here operators U_w and U_s are applied to psi_0 \"p\" times for each of the P states.\n",
    "    '''\n",
    "    M, P = psi_0.shape[0], psi_0.shape[1]\n",
    "    psi_1 = np.zeros((M,P))\n",
    "    for p in np.arange(P):\n",
    "        psi_1[:,p] = np.dot(np.linalg.matrix_power(np.matmul(U_s(w),U_w(w)),p),psi_0[:,p])\n",
    "    return psi_1"
   ]
  },
  {
   "cell_type": "markdown",
   "metadata": {},
   "source": [
    "Now we apply Grover's algorithm itterably to this state such that:\n",
    "\n",
    "$$ |\\psi_{1}⟩ = \\hat{C}_{G}|\\psi_{0}⟩, $$\n",
    "\n",
    "where $\\hat{C}_{G}|p⟩\\otimes |m⟩\\rightarrow |p⟩\\otimes (\\hat{G})^{p}|m⟩$,\n",
    "\n",
    "and $\\hat{G}=\\hat{U_{s}}\\hat{U_{w}}$."
   ]
  },
  {
   "cell_type": "code",
   "execution_count": 20,
   "metadata": {},
   "outputs": [],
   "source": [
    "# Apply the first part of Grover's algorithm\n",
    "psi_1 = Grovers1(w,psi_0)"
   ]
  },
  {
   "cell_type": "markdown",
   "metadata": {},
   "source": [
    "We can see what this operation does to $|\\psi_{0}⟩$ in the plot bellow:"
   ]
  },
  {
   "cell_type": "code",
   "execution_count": 21,
   "metadata": {},
   "outputs": [
    {
     "data": {
      "image/png": "[encoded data removed]",
      "text/plain": [
       "<Figure size 720x504 with 1 Axes>"
      ]
     },
     "metadata": {
      "needs_background": "light"
     },
     "output_type": "display_data"
    }
   ],
   "source": [
    "from mpl_toolkits.mplot3d import Axes3D\n",
    "from matplotlib import cm\n",
    "\n",
    "X, Y = np.meshgrid(p_inds, m_inds)\n",
    "Z=psi_1\n",
    "fig = plt.figure(figsize=(10,7))\n",
    "ax = fig.gca(projection='3d')\n",
    "\n",
    "surf = ax.plot_surface(X, Y, Z, cmap=cm.coolwarm,\n",
    "                       linewidth=0, antialiased=False)\n",
    "\n",
    "ax.set_title('Figure 3')\n",
    "ax.set_xlabel(r'$P$')\n",
    "ax.set_ylabel(r'$M$')\n",
    "ax.set_zlabel('State amplitude')\n",
    "\n",
    "plt.show()"
   ]
  },
  {
   "cell_type": "markdown",
   "metadata": {},
   "source": [
    "We see the amplitudes of states $\\psi_{1}$ numbering $P\\times M$. Where the amplitudes of the states around correct solutions are much greater than the incorrect solutions. The incorrect solutions also exhibit a sinusoidal pattern. \n",
    "\n",
    "It is the frequency $f$ of this sinusoid that we wish to determine, as it is related to the number of correct template matches $k$ by:\n",
    "\n",
    "$$ k = \\sin^{2}\\frac{f\\pi}{P}. $$\n",
    "\n",
    "Determining phase/frequency information from amplitudes of states requires a *quantum fourier transform*."
   ]
  },
  {
   "cell_type": "markdown",
   "metadata": {},
   "source": [
    "### Quantum Fourier Transform\n",
    "\n",
    "The *quantum fourier transform* is much the same as it's classical counterpart but is performed on amplitude/phase information stored on the states of qubits. It transfers information stored in amplitudes in quantum states into phase information. There also exists the inverse quantum fourier transform for the reverse opperation.\n",
    "\n",
    "The quantum fourier transform acting on state $|p⟩$ gives:\n",
    "\n",
    "$$ \\mathrm{QFT}:|x⟩ \\mapsto \\frac{1}{\\sqrt{K}}\\sum^{K-1}_{k=0}e^{2\\pi i\\frac{kx}{K}}|k⟩. $$\n",
    "\n",
    "The inverse quantum fourier transform is applied across the ancillary qubits the recover the phase information from the sinusoidal behaviour in the states shown in the graph above. This requires creating a $QFT^{-1}$ operator of size $P\\times P$, which we will call $\\hat{F}_{P}$ as done below:"
   ]
  },
  {
   "cell_type": "code",
   "execution_count": 22,
   "metadata": {},
   "outputs": [],
   "source": [
    "def IQFT(P):\n",
    "    '''\n",
    "    Constructing the inverse fourier transform of size PxP.\n",
    "    '''\n",
    "    return np.round(\n",
    "            np.array([[(np.exp(-2.*i*j*1j*np.pi/P)) \n",
    "                   for j in np.arange(P)] \n",
    "                    for i in np.arange(P)]),1)*1./np.sqrt(P)"
   ]
  },
  {
   "cell_type": "code",
   "execution_count": 23,
   "metadata": {},
   "outputs": [],
   "source": [
    "def Grovers2(psi_1):\n",
    "    '''\n",
    "    The seconds part of Grovers algorithm. \n",
    "    Here we apply the inverse quantum Fourier transform to psi_2.\n",
    "    '''\n",
    "    M, P = psi_1.shape[0], psi_1.shape[1]\n",
    "    return np.dot(IQFT(P),psi_1.T)"
   ]
  },
  {
   "cell_type": "markdown",
   "metadata": {},
   "source": [
    "Applying this across the ancillary states in $|\\psi_{1}⟩$:\n",
    "\n",
    "$$ \\psi_{2} = \\hat{F}_{P}\\psi_{1}. $$"
   ]
  },
  {
   "cell_type": "code",
   "execution_count": 24,
   "metadata": {},
   "outputs": [],
   "source": [
    "# We apply the second part of Grover's algoirthm to state psi_1\n",
    "psi_2 = Grovers2(psi_1)"
   ]
  },
  {
   "cell_type": "markdown",
   "metadata": {},
   "source": [
    "This operation changes $|\\psi_{1}⟩$ to the states in the plot bellow (note that I now show the state probability and not the amplitudes in the $z$ axis): "
   ]
  },
  {
   "cell_type": "code",
   "execution_count": 25,
   "metadata": {},
   "outputs": [
    {
     "data": {
      "image/png": "[encoded data removed]",
      "text/plain": [
       "<Figure size 720x504 with 1 Axes>"
      ]
     },
     "metadata": {
      "needs_background": "light"
     },
     "output_type": "display_data"
    }
   ],
   "source": [
    "from mpl_toolkits.mplot3d import Axes3D  # noqa: F401 unused import\n",
    "from matplotlib import cm\n",
    "\n",
    "X, Y = np.meshgrid(p_inds, m_inds)\n",
    "Z=np.absolute(psi_2).T**2\n",
    "fig = plt.figure(figsize=(10,7))\n",
    "ax = fig.gca(projection='3d')\n",
    "\n",
    "surf = ax.plot_surface(X, Y, Z, cmap=cm.coolwarm,\n",
    "                       linewidth=0, antialiased=False)\n",
    "\n",
    "ax.set_title('Figure 4')\n",
    "ax.set_xlabel(r'$P$')\n",
    "ax.set_ylabel(r'$M$')\n",
    "ax.set_zlabel('State probability')\n",
    "\n",
    "plt.show()"
   ]
  },
  {
   "cell_type": "markdown",
   "metadata": {},
   "source": [
    "The probabilities $|\\psi_{2}|^{2}$ are seen over ancillary and template states. There are two peaks, corresponing to $f$ and $P-f$. Measuring the ancillary state will likely acquire one or the other. These peaks also correspond to the positions of matching templates, and so measuring the template qubits likely recovers a correct position of a template.\n",
    "\n",
    "From knowing $f$ or $P-f$ we can work out the number of matched templates $k$ with the relation:\n",
    "\n",
    "$$ k = \\sin^{2}\\frac{f\\pi}{P}. $$\n",
    "\n",
    "Doing this gives the number of matching templates for this example as:"
   ]
  },
  {
   "cell_type": "code",
   "execution_count": 26,
   "metadata": {},
   "outputs": [],
   "source": [
    "# Measure each of the qubits corresponding to template states M and period states P\n",
    "measurement = np.unravel_index(np.argmax(np.absolute(psi_2)**2), psi_2.shape)\n",
    "\n",
    "# The resulting state measured from the P qubits tells us about the number of matching templates\n",
    "P_measured = measurement[0]"
   ]
  },
  {
   "cell_type": "code",
   "execution_count": 27,
   "metadata": {},
   "outputs": [
    {
     "name": "stdout",
     "output_type": "stream",
     "text": [
      "Number of matching templates: 256\n",
      "Optimum number of Grover applications: 1\n"
     ]
    }
   ],
   "source": [
    "# The result from measuring P corresponds to the frequency of the sinesoid shown in Figure 3\n",
    "N_templates = int(np.round(M*np.sin(P_measured*np.pi/P)**2))\n",
    "\n",
    "opt_p = int(np.round((np.pi/4.)* np.sqrt(M/N_templates)))\n",
    "\n",
    "print('Number of matching templates:',N_templates)\n",
    "print('Optimum number of Grover applications:',opt_p)"
   ]
  },
  {
   "cell_type": "code",
   "execution_count": 28,
   "metadata": {},
   "outputs": [
    {
     "name": "stdout",
     "output_type": "stream",
     "text": [
      "7.692446182750973\n",
      "9.312145933244889\n",
      "10.106327951220214\n",
      "9.676448138244016\n",
      "9.492454997521083\n",
      "10.107963647891681\n",
      "10.699993460022863\n",
      "10.97632432893572\n",
      "11.17803183274395\n",
      "11.559338524687398\n",
      "11.978526757864405\n",
      "12.185927422265257\n",
      "12.167216981754782\n",
      "12.049788935194131\n",
      "12.124039358384415\n",
      "12.585700765068236\n",
      "13.36728629929272\n",
      "14.269499181071236\n",
      "15.150913114932392\n",
      "15.952717517960771\n",
      "16.61596964062893\n",
      "17.155504597498407\n",
      "10.083184537304186\n",
      "9.587487910149807\n",
      "9.535574152481937\n",
      "10.236946585714783\n",
      "10.76135036887133\n",
      "10.989199100811101\n",
      "11.286582548017515\n",
      "11.74081262076824\n",
      "12.088602035426224\n",
      "12.206070571396488\n",
      "12.108725759259604\n",
      "12.03000318028305\n",
      "12.28411959827156\n",
      "12.95671754853062\n",
      "13.839635126465868\n",
      "14.776185676048962\n",
      "15.650516216096666\n",
      "16.390012529578268\n",
      "17.02127863852099\n",
      "17.50517926863152\n",
      "17.869819116902242\n",
      "9.553978927138697\n",
      "10.292249367636716\n",
      "10.781586607670068\n",
      "10.990576676804512\n",
      "11.36050611973591\n",
      "11.851015040308772\n",
      "12.149483925484972\n",
      "12.16709210283095\n",
      "12.038883581778315\n",
      "12.069623176707676\n",
      "12.50716057151507\n",
      "13.31907768093526\n",
      "14.265153754900659\n",
      "15.195064425247105\n",
      "16.020678000164196\n",
      "16.748520250595135\n",
      "17.315059342336937\n",
      "17.773317026036455\n",
      "18.100495174218953\n",
      "18.322913989767276\n",
      "10.785545108392059\n",
      "11.006233472655664\n",
      "11.42449914410854\n",
      "11.906849617041038\n",
      "12.166979300316633\n",
      "12.12795080437\n",
      "12.012143405250265\n",
      "12.146830441650927\n",
      "12.737503123149414\n",
      "13.619255962531641\n",
      "14.590466328627638\n",
      "15.520158935464874\n",
      "16.33107404934485\n",
      "17.000481233386683\n",
      "17.553286135018418\n",
      "17.965891153569885\n",
      "18.27423709020765\n",
      "18.474440553506902\n",
      "18.587844858546852\n",
      "11.445047705685614\n",
      "11.930416780053982\n",
      "12.16603056846082\n",
      "12.098887287134783\n",
      "11.986131238900954\n",
      "12.220383496281253\n",
      "12.919457230056096\n",
      "13.886107325532372\n",
      "14.87252587501625\n",
      "15.767482845049193\n",
      "16.56016808446186\n",
      "17.204650644574492\n",
      "17.72070705677927\n",
      "18.115099504515197\n",
      "18.400722896852656\n",
      "18.587957311410925\n",
      "18.685685829062603\n",
      "18.721156077004995\n",
      "12.163767587425074\n",
      "12.080833284140937\n",
      "11.985219932269228\n",
      "12.29567137935365\n",
      "13.076320133587606\n",
      "14.076560870532278\n",
      "15.076838029770979\n",
      "15.972986087799923\n",
      "16.72089093082418\n",
      "17.36013085965882\n",
      "17.838753512590657\n",
      "18.22454965956136\n",
      "18.490223434323866\n",
      "18.670530635964077\n",
      "18.764214559183724\n",
      "18.780177383048322\n",
      "18.76190532009596\n",
      "11.986765618863286\n",
      "12.332616655724257\n",
      "13.168383069914189\n",
      "14.198592945678566\n",
      "15.214719795196139\n",
      "16.11553775323445\n",
      "16.856797161303437\n",
      "17.463661945864043\n",
      "17.94200089599922\n",
      "18.283644148312085\n",
      "18.562731977346242\n",
      "18.72248699837892\n",
      "18.81735517151876\n",
      "18.840369205950786\n",
      "18.792912693597476\n",
      "18.73564330235154\n",
      "13.19868449009773\n",
      "14.258030184380994\n",
      "15.294082989293118\n",
      "16.204935967531195\n",
      "16.95014202132562\n",
      "17.529140973649405\n",
      "18.0066666091063\n",
      "18.3509977857722\n",
      "18.59555562326136\n",
      "18.772436596386903\n",
      "18.847471214683864\n",
      "18.87419436011348\n",
      "18.84571448632918\n",
      "18.759842391977564\n",
      "18.662250832116236\n",
      "15.319963056745193\n",
      "16.24789402819967\n",
      "17.00293440002561\n",
      "17.584526085969223\n",
      "18.044645544582167\n",
      "18.392300255517693\n",
      "18.622920254585868\n",
      "18.79152213537772\n",
      "18.883589674132885\n",
      "18.893110465026364\n",
      "18.86588351789376\n",
      "18.799080313315333\n",
      "18.690114735746114\n",
      "18.554081897300303\n",
      "17.01999525122814\n",
      "17.612410446810017\n",
      "18.064105527131666\n",
      "18.414002354051455\n",
      "18.65036235667727\n",
      "18.79326450700481\n",
      "18.89589092289257\n",
      "18.92067085521248\n",
      "18.8808860978964\n",
      "18.809226489766225\n",
      "18.715343643361212\n",
      "18.590068792840473\n",
      "18.445037650332445\n",
      "18.070023831743733\n",
      "18.42311834898242\n",
      "18.663373430208463\n",
      "18.81034458519755\n",
      "18.8957057039614\n",
      "18.929827760029262\n",
      "18.90278739138975\n",
      "18.824374429085793\n",
      "18.718463213246448\n",
      "18.604220501375686\n",
      "18.468565995673856\n",
      "18.3209010392163\n",
      "18.667134802043222\n",
      "18.818360251040673\n",
      "18.891917002612097\n",
      "18.93015979365116\n",
      "18.910683727218533\n",
      "18.841858762026295\n",
      "18.736705641247088\n",
      "18.604893002881195\n",
      "18.473783913553433\n",
      "18.332408816606932\n",
      "18.185003942259097\n",
      "18.893489404019913\n",
      "18.9285416228652\n",
      "18.912173779030187\n",
      "18.848777488823476\n",
      "18.75026444930699\n",
      "18.625670361280644\n",
      "18.48275291662849\n",
      "18.330915390676374\n",
      "18.187098203168343\n",
      "18.04138616565736\n",
      "18.91211402252221\n",
      "18.85073811170305\n",
      "18.75579552250481\n",
      "18.6357364005957\n",
      "18.497505789713603\n",
      "18.349490936588445\n",
      "18.197622694293493\n",
      "18.04578970355747\n",
      "17.897409284716232\n",
      "18.757189203112933\n",
      "18.639576800723702\n",
      "18.504320237225034\n",
      "18.35918275503643\n",
      "18.20990278944338\n",
      "18.06014235691958\n",
      "17.913401910469627\n",
      "17.771108568973293\n",
      "18.506237482345103\n",
      "18.363102389570006\n",
      "18.21563161653664\n",
      "18.06726551522165\n",
      "17.921463276758654\n",
      "17.77990585848082\n",
      "17.643234946408374\n",
      "18.2172589332914\n",
      "18.07006249068508\n",
      "17.924904392981762\n",
      "17.783588854916587\n",
      "17.647082728780163\n",
      "17.51483720971436\n",
      "17.92581318879581\n",
      "17.784757614558007\n",
      "17.648106142838458\n",
      "17.515677487136482\n",
      "17.386619916584696\n",
      "17.6482307630492\n",
      "17.515466814903547\n",
      "17.385952510058985\n",
      "17.25983670898132\n",
      "17.139604345511593\n",
      "17.385528210037844\n",
      "17.264409198939834\n",
      "17.14597787837194\n",
      "17.026973770351784\n",
      "17.147929269368927\n",
      "17.03047256690447\n",
      "16.9129949266912\n",
      "16.914409940357455\n"
     ]
    }
   ],
   "source": [
    "Templates = k_1(initial_states)\n",
    "w = k_2(Templates, Data, threshold=SNR)\n",
    "psi_0 = np.ones((M))/np.sqrt(M)\n",
    "psi_1 = np.dot(np.linalg.matrix_power(np.matmul(U_s(w),U_w(w)),opt_p),psi_0)"
   ]
  },
  {
   "cell_type": "code",
   "execution_count": 29,
   "metadata": {},
   "outputs": [],
   "source": [
    "probs_out = []\n",
    "for p in np.arange(2*opt_p+1):\n",
    "    psi_1_ = np.dot(np.linalg.matrix_power(np.matmul(U_s(w),U_w(w)),p),psi_0)\n",
    "    probs_out.append(np.max(np.abs(psi_1_)**2))\n",
    "\n",
    "probs_out = np.array(probs_out)"
   ]
  },
  {
   "cell_type": "code",
   "execution_count": 30,
   "metadata": {},
   "outputs": [
    {
     "data": {
      "image/png": "[encoded data removed]",
      "text/plain": [
       "<Figure size 432x288 with 1 Axes>"
      ]
     },
     "metadata": {
      "needs_background": "light"
     },
     "output_type": "display_data"
    }
   ],
   "source": [
    "plt.plot(probs_out)\n",
    "plt.axvline(x=opt_p, color='black')\n",
    "plt.show()"
   ]
  },
  {
   "cell_type": "code",
   "execution_count": 31,
   "metadata": {},
   "outputs": [
    {
     "data": {
      "image/png": "[encoded data removed]",
      "text/plain": [
       "<Figure size 432x288 with 1 Axes>"
      ]
     },
     "metadata": {
      "needs_background": "light"
     },
     "output_type": "display_data"
    }
   ],
   "source": [
    "plt.plot(np.abs(psi_1)**2)\n",
    "plt.show()"
   ]
  },
  {
   "cell_type": "code",
   "execution_count": 32,
   "metadata": {},
   "outputs": [],
   "source": [
    "Data = np.load('noise.npy')\n",
    "# N is the number of data points\n",
    "N = len(Data)"
   ]
  },
  {
   "cell_type": "code",
   "execution_count": 33,
   "metadata": {},
   "outputs": [
    {
     "name": "stdout",
     "output_type": "stream",
     "text": [
      "5.446913654814171\n",
      "5.579165325576029\n",
      "6.3174127080976525\n",
      "6.538867649486572\n",
      "7.060637232818224\n",
      "6.749013583069112\n",
      "6.869951454681907\n",
      "6.910882543803498\n",
      "6.778523202892136\n",
      "6.765363281898704\n",
      "6.833456845430804\n",
      "6.8398370552855186\n",
      "6.699129607994861\n",
      "6.478101192462171\n",
      "6.23009111180383\n",
      "6.038743082532804\n",
      "5.923540299959198\n",
      "5.864119834051387\n",
      "6.00474522429412\n",
      "6.14912309059784\n",
      "6.32384244181515\n",
      "6.53559115127854\n",
      "6.368949905615397\n",
      "6.500915247262709\n",
      "7.095081927638242\n",
      "6.551599782894056\n",
      "6.827110221005128\n",
      "6.785244750226114\n",
      "6.694102097019279\n",
      "6.746702042628904\n",
      "6.851340678150037\n",
      "6.831778604103589\n",
      "6.698147085071576\n",
      "6.480099785890096\n",
      "6.274800177841364\n",
      "6.136512839630774\n",
      "6.056563958085235\n",
      "6.027011940701134\n",
      "6.13791525419805\n",
      "6.225589952742587\n",
      "6.355193810281765\n",
      "6.550742251161201\n",
      "6.714541317952764\n",
      "7.098257522327638\n",
      "6.509807219486789\n",
      "6.785453650722855\n",
      "6.708057891091289\n",
      "6.652274408641955\n",
      "6.747521300696181\n",
      "6.829999885729376\n",
      "6.808457002660565\n",
      "6.664321952953177\n",
      "6.4862335739375\n",
      "6.3332656012723\n",
      "6.239507449573043\n",
      "6.179169607685367\n",
      "6.1609570626711205\n",
      "6.217033351027852\n",
      "6.260428194488606\n",
      "6.352808056601371\n",
      "6.5386909673434905\n",
      "6.68905365924952\n",
      "6.785488240983159\n",
      "6.769758807790722\n",
      "6.673153891065503\n",
      "6.632760156477362\n",
      "6.742122228662733\n",
      "6.80894656259371\n",
      "6.766209906196702\n",
      "6.641380884751683\n",
      "6.503385103461371\n",
      "6.398512399324074\n",
      "6.328944917372992\n",
      "6.276775544401585\n",
      "6.247886978257196\n",
      "6.27597714396493\n",
      "6.274528124197486\n",
      "6.322969648431845\n",
      "6.510288554562244\n",
      "6.653272588987747\n",
      "6.743142622859184\n",
      "6.788226260845112\n",
      "6.627119128838582\n",
      "6.737830444800413\n",
      "6.7932299429183205\n",
      "6.7275789650155255\n",
      "6.61089412454234\n",
      "6.506796448652214\n",
      "6.453307744838609\n",
      "6.41338508297235\n",
      "6.3600525934737915\n",
      "6.307257086114641\n",
      "6.299179527920917\n",
      "6.2743246834700885\n",
      "6.280253131844312\n",
      "6.47783189756304\n",
      "6.613263830589267\n",
      "6.696909209802869\n",
      "6.733030746342776\n",
      "6.734413072131699\n",
      "6.786986599714132\n",
      "6.708454190309845\n",
      "6.592908461481757\n",
      "6.519989101622224\n",
      "6.490957204453278\n",
      "6.467149540065917\n",
      "6.417419600370772\n",
      "6.347951601367403\n",
      "6.322221337948892\n",
      "6.259308898155154\n",
      "6.2710993284748096\n",
      "6.450825619030992\n",
      "6.573398290749427\n",
      "6.6491941477591485\n",
      "6.680453412508111\n",
      "6.6818707883380375\n",
      "6.646921600638556\n",
      "6.589386491624284\n",
      "6.523625786749478\n",
      "6.50864815965548\n",
      "6.5053128722506806\n",
      "6.463044018965371\n",
      "6.372399267099129\n",
      "6.326898745385778\n",
      "6.251012928858923\n",
      "6.2784160966633795\n",
      "6.431009287388917\n",
      "6.53823233273886\n",
      "6.604698978442204\n",
      "6.63409803874873\n",
      "6.626812504833292\n",
      "6.599642299358778\n",
      "6.540819784804474\n",
      "6.514087015126337\n",
      "6.526494166285197\n",
      "6.491248488263383\n",
      "6.401904762942294\n",
      "6.321900857725589\n",
      "6.236995208573704\n",
      "6.294173270002265\n",
      "6.4196215307463715\n",
      "6.510894423446973\n",
      "6.566684779698193\n",
      "6.591322183892965\n",
      "6.582417545966403\n",
      "6.550574133432195\n",
      "6.499037941528002\n",
      "6.592601052635321\n",
      "6.500300562502714\n",
      "6.416019050187123\n",
      "6.326031361147948\n",
      "6.222632936908552\n",
      "6.312843339963101\n",
      "6.417430895363052\n",
      "6.491721415394005\n",
      "6.536768936305869\n",
      "6.554704198666083\n",
      "6.543619415244681\n",
      "6.5070084381102475\n",
      "6.456515837256417\n",
      "6.6024136283401145\n",
      "6.748233607372821\n",
      "6.327145637831401\n",
      "6.219502825136417\n",
      "6.3258281156563045\n",
      "6.420062178519291\n",
      "6.480771091080506\n",
      "6.515429959953422\n",
      "6.525624713698214\n",
      "6.510654704674578\n",
      "6.4737362178509965\n",
      "6.461808455073942\n",
      "6.613094124416853\n",
      "6.753337166968056\n",
      "6.877348087462388\n",
      "6.330459356429228\n",
      "6.422129268562833\n",
      "6.475556977441221\n",
      "6.501706778840535\n",
      "6.504816961647464\n",
      "6.485059320543917\n",
      "6.4457174038239335\n",
      "6.477974667904292\n",
      "6.623727788089098\n",
      "6.759120335513899\n",
      "6.877894152332419\n",
      "6.98351796249933\n",
      "6.473989616646556\n",
      "6.495125852838627\n",
      "6.492378716399581\n",
      "6.467723773072178\n",
      "6.424717414249392\n",
      "6.4913076262009275\n",
      "6.633227151534439\n",
      "6.765004668190278\n",
      "6.879203564786654\n",
      "6.983242221593354\n",
      "7.072285479388856\n",
      "6.488249989782212\n",
      "6.4589668257162485\n",
      "6.411770762124149\n",
      "6.500780400179926\n",
      "6.6406972882994415\n",
      "6.77030357404625\n",
      "6.880871286987138\n",
      "6.983422810859912\n",
      "7.069191410223439\n",
      "7.140689041851652\n",
      "6.407398802862332\n",
      "6.505694935120679\n",
      "6.645459640069488\n",
      "6.7742888413436795\n",
      "6.882468811873279\n",
      "6.983901792648611\n",
      "7.066931746083091\n",
      "7.1388431159513965\n",
      "7.200560705732052\n",
      "6.647096292710473\n",
      "6.776418417556776\n",
      "6.883930744637373\n",
      "6.984398756993368\n",
      "7.0654192042087525\n",
      "7.137403082170218\n",
      "7.197234736603023\n",
      "7.2425180989018605\n",
      "6.884562643768042\n",
      "6.984706484719634\n",
      "7.064558316591497\n",
      "7.136434630273031\n",
      "7.194699537965323\n",
      "7.238684013550156\n",
      "7.2784774119371045\n",
      "7.064281386696485\n",
      "7.13595951369082\n",
      "7.19312025336862\n",
      "7.237775795970177\n",
      "7.27662907175812\n",
      "7.3022193241897355\n",
      "7.192586024142371\n",
      "7.2372764957119875\n",
      "7.275377105617779\n",
      "7.3000486799035\n",
      "7.314811094243237\n",
      "7.274936081858666\n",
      "7.298867995806901\n",
      "7.314763958475775\n",
      "7.3232464901863485\n",
      "7.319624758120051\n",
      "7.314712066823028\n",
      "7.323024147785429\n",
      "7.319189263034578\n",
      "7.3058489003106795\n",
      "7.319000613629138\n",
      "7.306827746669389\n",
      "7.290061781635057\n",
      "7.290472006335453\n"
     ]
    }
   ],
   "source": [
    "Templates = k_1(initial_states)\n",
    "w = k_2(Templates, Data, threshold=SNR)"
   ]
  },
  {
   "cell_type": "code",
   "execution_count": 34,
   "metadata": {},
   "outputs": [],
   "source": [
    "# Initialising joint state psi_0 which we apply Grover's algorithm over given w\n",
    "psi_0 = np.ones((M,P))/np.sqrt(M*P)\n",
    "# Apply the first part of Grover's algorithm\n",
    "psi_1 = Grovers1(w,psi_0)\n",
    "# We apply the second part of Grover's algoirthm to state psi_1\n",
    "psi_2 = Grovers2(psi_1)"
   ]
  },
  {
   "cell_type": "code",
   "execution_count": 35,
   "metadata": {},
   "outputs": [],
   "source": [
    "# Measure each of the qubits corresponding to template states M and period states P\n",
    "measurement = np.unravel_index(np.argmax(np.absolute(psi_2)**2), psi_2.shape)\n",
    "\n",
    "# The resulting state measured from the P qubits tells us about the number of matching templates\n",
    "P_measured = measurement[0]"
   ]
  },
  {
   "cell_type": "code",
   "execution_count": 36,
   "metadata": {},
   "outputs": [],
   "source": [
    "# The result from measuring P corresponds to the frequency of the sinesoid shown in Figure 3\n",
    "N_templates = int(np.round(M*np.sin(P_measured*np.pi/P)**2))"
   ]
  },
  {
   "cell_type": "code",
   "execution_count": 37,
   "metadata": {},
   "outputs": [
    {
     "name": "stdout",
     "output_type": "stream",
     "text": [
      "0\n"
     ]
    }
   ],
   "source": [
    "print(N_templates)"
   ]
  },
  {
   "cell_type": "code",
   "execution_count": null,
   "metadata": {},
   "outputs": [],
   "source": []
  }
 ],
 "metadata": {
  "kernelspec": {
   "display_name": "Python 3",
   "language": "python",
   "name": "python3"
  },
  "language_info": {
   "codemirror_mode": {
    "name": "ipython",
    "version": 3
   },
   "file_extension": ".py",
   "mimetype": "text/x-python",
   "name": "python",
   "nbconvert_exporter": "python",
   "pygments_lexer": "ipython3",
   "version": "3.6.11"
  }
 },
 "nbformat": 4,
 "nbformat_minor": 4
}
