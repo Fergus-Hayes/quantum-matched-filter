{
 "cells": [
  {
   "cell_type": "code",
   "execution_count": null,
   "metadata": {},
   "outputs": [],
   "source": [
    "import gw_detections_functions as gwfn\n",
    "import quantum_matched_filter_functions as qmffn\n",
    "from mpl_toolkits.axes_grid1.inset_locator import zoomed_inset_axes, mark_inset\n",
    "from scipy.interpolate import interp1d\n",
    "import matplotlib.pyplot as plt\n",
    "import matplotlib\n",
    "import scipy.signal\n",
    "import numpy as np"
   ]
  },
  {
   "cell_type": "code",
   "execution_count": null,
   "metadata": {},
   "outputs": [],
   "source": [
    "path = './outpath/'\n",
    "os.makedirs(path, exist_ok=True)"
   ]
  },
  {
   "cell_type": "code",
   "execution_count": null,
   "metadata": {},
   "outputs": [],
   "source": [
    "!wget \"https://www.gw-openscience.org/eventapi/html/GWTC-1-confident/GW150914/v3/H-H1_GWOSC_4KHZ_R1-1126259447-32.txt.gz\"\n",
    "!wget \"https://dcc.ligo.org/public/0158/P1900011/001/GWTC1_GW150914_PSDs.dat\"\n",
    "!gzip -d \"H-H1_GWOSC_4KHZ_R1-1126259447-32.txt.gz\"\n",
    "!mv \"GWTC1_GW150914_PSDs.dat\" \"H-H1_GWOSC_4KHZ_R1-1126259447-32.txt\" \"data/.\""
   ]
  },
  {
   "cell_type": "code",
   "execution_count": null,
   "metadata": {},
   "outputs": [],
   "source": [
    "ht = np.loadtxt('data/H-H1_GWOSC_4KHZ_R1-1126259447-32.txt', skiprows=3)\n",
    "psd_data = np.loadtxt('data/GWTC1_GW150914_PSDs.dat', skiprows=1, usecols=[0,1])"
   ]
  },
  {
   "cell_type": "code",
   "execution_count": null,
   "metadata": {},
   "outputs": [],
   "source": [
    "fs = 4096\n",
    "f_low = 20.\n",
    "dt=1./fs\n",
    "T = 32\n",
    "df = 1./T\n",
    "N = int(T*fs)\n",
    "t = dt*np.arange(N)\n",
    "f = df*np.arange(N//2 + 1)"
   ]
  },
  {
   "cell_type": "code",
   "execution_count": null,
   "metadata": {},
   "outputs": [],
   "source": [
    "T_new = 16\n",
    "fs_new = 4096\n",
    "dt_new = 1./fs_new\n",
    "df_new = 1./T_new\n",
    "N_new = int(T_new*fs)\n",
    "t_new = dt*np.arange(N_new)\n",
    "f_new = df_new*np.arange(N_new//2 + 1)"
   ]
  },
  {
   "cell_type": "code",
   "execution_count": null,
   "metadata": {},
   "outputs": [],
   "source": [
    "inv_psd_func = interp1d(psd_data[:,0],1.0/psd_data[:,1],kind='linear',fill_value=(0.0,0.0),bounds_error=False)\n",
    "inv_psd = inv_psd_func(f)"
   ]
  },
  {
   "cell_type": "code",
   "execution_count": null,
   "metadata": {},
   "outputs": [],
   "source": [
    "ht_w = gwfn.whiten(ht,inv_psd,fs)"
   ]
  },
  {
   "cell_type": "code",
   "execution_count": null,
   "metadata": {},
   "outputs": [],
   "source": [
    "ht_wb = gwfn.highpass(ht_w,f_low,fs)"
   ]
  },
  {
   "cell_type": "code",
   "execution_count": null,
   "metadata": {},
   "outputs": [],
   "source": [
    "ht_wbc = ht_wb[fs*(T - T_new)//2:-fs*(T - T_new)//2]"
   ]
  },
  {
   "cell_type": "code",
   "execution_count": null,
   "metadata": {},
   "outputs": [],
   "source": [
    "inv_psd = inv_psd_func(f_new)"
   ]
  },
  {
   "cell_type": "code",
   "execution_count": null,
   "metadata": {},
   "outputs": [],
   "source": [
    "#_, st_wbc = gwfn.make_template(54.89,18.66,fs_new,T_new,inv_psd)#,s1=-0.39,s2=0.89)\n",
    "_, st_wbc = gwfn.make_template(35.6,30.6,fs_new,T_new,inv_psd)#,s1=-0.39,s2=0.89)"
   ]
  },
  {
   "cell_type": "code",
   "execution_count": null,
   "metadata": {},
   "outputs": [],
   "source": [
    "snr = gwfn.get_snr(ht_wbc,st_wbc,fs_new)"
   ]
  },
  {
   "cell_type": "code",
   "execution_count": null,
   "metadata": {},
   "outputs": [],
   "source": [
    "print(np.max(snr))"
   ]
  },
  {
   "cell_type": "code",
   "execution_count": null,
   "metadata": {},
   "outputs": [],
   "source": [
    "plt.plot(snr)"
   ]
  },
  {
   "cell_type": "code",
   "execution_count": null,
   "metadata": {},
   "outputs": [],
   "source": [
    "np.save('data/signal',ht_wbc)\n",
    "np.save('data/psd', 1./inv_psd)"
   ]
  },
  {
   "cell_type": "code",
   "execution_count": null,
   "metadata": {},
   "outputs": [],
   "source": [
    "plt.plot(ht_wbc)"
   ]
  },
  {
   "cell_type": "code",
   "execution_count": null,
   "metadata": {},
   "outputs": [],
   "source": [
    "bank, _, _ = qmffn.get_paras(2**8)"
   ]
  },
  {
   "cell_type": "code",
   "execution_count": null,
   "metadata": {},
   "outputs": [],
   "source": [
    "m1s = bank['mass1']\n",
    "m2s = bank['mass2']\n",
    "s1s = bank['spin1z']\n",
    "s2s = bank['spin2z']\n",
    "fls = bank['f_lower']\n",
    "paras = iter(np.array([m1s,m2s,s1s,s2s,fls]).T)"
   ]
  },
  {
   "cell_type": "code",
   "execution_count": null,
   "metadata": {},
   "outputs": [],
   "source": [
    "psd_func = interp1d(psd_data[:,0],psd_data[:,1],kind='linear',fill_value=(psd_data[0,1],psd_data[0,1]),bounds_error=False)\n",
    "psd = psd_func(f_new)\n",
    "plt.loglog(f_new,psd)"
   ]
  },
  {
   "cell_type": "code",
   "execution_count": null,
   "metadata": {},
   "outputs": [],
   "source": [
    "#noise_ = pycbc.noise.noise_from_psd(len(strain), strain.delta_t, psd_noise)"
   ]
  },
  {
   "cell_type": "code",
   "execution_count": null,
   "metadata": {},
   "outputs": [],
   "source": [
    "fontsize = 28\n",
    "ticksize = 22\n",
    "\n",
    "matplotlib.rcParams['mathtext.fontset'] = 'stix'\n",
    "matplotlib.rcParams['font.family'] = 'STIXGeneral'\n",
    "\n",
    "fig, ax = plt.subplots(figsize=(12,8))\n",
    "\n",
    "temp = np.roll(st_wbc,np.argmax(ht_wbc)-np.argmax(st_wbc))\n",
    "\n",
    "ax.plot(np.arange(len(ht_wbc))*dt,ht_wbc, color='black', lw=.2, label=r'$x(t)$')\n",
    "ax.plot(np.arange(len(ht_wbc))*dt,np.max(ht_wbc)*temp/np.max(st_wbc), color='orange', lw=.2, label=r'$q(t)$')\n",
    "\n",
    "ax.set_xlabel(r'$t$ (seconds)', fontsize=fontsize)\n",
    "ax.set_ylabel(r'Whitened strain', fontsize=fontsize, labelpad=-10)\n",
    "ax.tick_params(axis='both', labelsize=ticksize)\n",
    "ax.set_ylim(-3.5,6)\n",
    "ax.set_xlim(0,16)\n",
    "ax.set_yticks([-2.,0,2])\n",
    "\n",
    "axins = zoomed_inset_axes(ax, 70, loc=1)\n",
    "axins.plot(np.arange(len(ht_wbc))*dt,ht_wbc/500, color='black', lw=2)\n",
    "axins.plot(np.arange(len(ht_wbc))*dt,np.max(ht_wbc)*temp/(500*np.max(st_wbc)), color='orange', lw=2)\n",
    "xmin, xmax = 7.2, 7.45\n",
    "indmin, indmax = xmin/dt, xmax/dt\n",
    "axins.set_xlim(xmin,xmax)\n",
    "axins.set_xticks([])\n",
    "axins.set_yticks([])\n",
    "mark_inset(ax, axins, loc1=3, loc2=4, fc=\"none\", ec=\"0.5\")\n",
    "\n",
    "#leg = ax.legend(fontsize=fontsize, loc='lower right', markerscale=50)\n",
    "\n",
    "fig.savefig(path+'signal_zoom.png')\n",
    "\n",
    "plt.show()"
   ]
  },
  {
   "cell_type": "code",
   "execution_count": null,
   "metadata": {},
   "outputs": [],
   "source": [
    "plt.plot(np.arange(len(ht_wbc))*dt,np.max(ht_wbc)*st_wbc/np.max(st_wbc), color='black', lw=.2)\n",
    "plt.show()"
   ]
  },
  {
   "cell_type": "code",
   "execution_count": null,
   "metadata": {},
   "outputs": [],
   "source": [
    "import pycbc.noise\n",
    "import pycbc.psd\n",
    "import pylab\n",
    "\n",
    "# The color of the noise matches a PSD which you provide\n",
    "flen = int(2048 / df) + 1\n",
    "noise_psd = pycbc.psd.aLIGOMidLowSensitivityP1200087(flen, df, f_low)\n",
    "\n",
    "# Generate 32 seconds of noise at 4096 Hz\n",
    "tsamples = int(32 / dt)\n",
    "noise = pycbc.noise.noise_from_psd(tsamples, dt, noise_psd)\n",
    "\n",
    "pylab.plot(noise.sample_times, noise)\n",
    "pylab.ylabel('Strain')\n",
    "pylab.xlabel('Time (s)')\n",
    "pylab.show()"
   ]
  },
  {
   "cell_type": "code",
   "execution_count": null,
   "metadata": {},
   "outputs": [],
   "source": [
    "plt.loglog(noise_psd.sample_frequencies,noise_psd)\n",
    "plt.loglog(psd_data[:,0],psd_data[:,1])\n",
    "\n",
    "plt.show()"
   ]
  },
  {
   "cell_type": "code",
   "execution_count": null,
   "metadata": {},
   "outputs": [],
   "source": [
    "inv_noise_psd_func = interp1d(noise_psd.sample_frequencies,1.0/np.array(noise_psd),kind='linear',fill_value=(0.0,0.0),bounds_error=False)\n",
    "inv_noise_psd = inv_noise_psd_func(f)\n",
    "inv_noise_psd = np.where(inv_noise_psd==np.inf, 0., inv_noise_psd)"
   ]
  },
  {
   "cell_type": "code",
   "execution_count": null,
   "metadata": {},
   "outputs": [],
   "source": [
    "print(inv_psd)\n",
    "print(inv_noise_psd)"
   ]
  },
  {
   "cell_type": "code",
   "execution_count": null,
   "metadata": {},
   "outputs": [],
   "source": [
    "noise_w = gwfn.whiten(np.array(noise),inv_noise_psd,fs)"
   ]
  },
  {
   "cell_type": "code",
   "execution_count": null,
   "metadata": {},
   "outputs": [],
   "source": [
    "noise_wb = gwfn.highpass(noise_w,f_low,fs)"
   ]
  },
  {
   "cell_type": "code",
   "execution_count": null,
   "metadata": {},
   "outputs": [],
   "source": [
    "noise_wbc = noise_wb[fs*(T - T_new)//2:-fs*(T - T_new)//2]"
   ]
  },
  {
   "cell_type": "code",
   "execution_count": null,
   "metadata": {},
   "outputs": [],
   "source": [
    "inv_noise_psd_new = inv_noise_psd_func(f_new)\n",
    "inv_noise_psd_new = np.where(inv_noise_psd_new==np.inf, 0., inv_noise_psd_new)"
   ]
  },
  {
   "cell_type": "code",
   "execution_count": null,
   "metadata": {},
   "outputs": [],
   "source": [
    "_, st_wbc = gwfn.make_template(35.6,30.6,fs_new,T_new,inv_noise_psd_new)"
   ]
  },
  {
   "cell_type": "code",
   "execution_count": null,
   "metadata": {},
   "outputs": [],
   "source": [
    "snr = gwfn.get_snr(noise_wbc,st_wbc,fs_new)\n",
    "print(np.max(snr))"
   ]
  },
  {
   "cell_type": "code",
   "execution_count": null,
   "metadata": {},
   "outputs": [],
   "source": [
    "np.save('data/noise',noise_wbc)\n",
    "np.save('data/noise_psd', 1./inv_noise_psd_new)"
   ]
  }
 ],
 "metadata": {
  "kernelspec": {
   "display_name": "Python 3 (ipykernel)",
   "language": "python",
   "name": "python3"
  },
  "language_info": {
   "codemirror_mode": {
    "name": "ipython",
    "version": 3
   },
   "file_extension": ".py",
   "mimetype": "text/x-python",
   "name": "python",
   "nbconvert_exporter": "python",
   "pygments_lexer": "ipython3",
   "version": "3.8.10"
  }
 },
 "nbformat": 4,
 "nbformat_minor": 2
}
