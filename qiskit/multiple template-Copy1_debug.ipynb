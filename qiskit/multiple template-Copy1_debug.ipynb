{
 "cells": [
  {
   "cell_type": "code",
   "execution_count": 1,
   "metadata": {},
   "outputs": [],
   "source": [
    "%matplotlib inline\n",
    "# Importing standard Qiskit libraries and configuring account\n",
    "from qiskit import QuantumCircuit, QuantumRegister, ClassicalRegister, execute, Aer, IBMQ\n",
    "from qiskit.compiler import transpile, assemble\n",
    "from qiskit.tools.jupyter import *\n",
    "from qiskit.visualization import *\n",
    "from qiskit import BasicAer\n",
    "import math\n",
    "import numpy as np\n",
    "import matplotlib.pyplot as plt\n",
    "\n",
    "#np.set_printoptions(threshold=sys.maxsize)\n",
    "\n",
    "# Loading your IBM Q account(s)\n",
    "#provider = IBMQ.load_account()\n",
    "#need to everything in one circuit for it to plot"
   ]
  },
  {
   "cell_type": "code",
   "execution_count": 2,
   "metadata": {},
   "outputs": [],
   "source": [
    "backend = BasicAer.get_backend('unitary_simulator')"
   ]
  },
  {
   "cell_type": "markdown",
   "metadata": {},
   "source": [
    "## Initialisation \n"
   ]
  },
  {
   "cell_type": "code",
   "execution_count": 3,
   "metadata": {},
   "outputs": [],
   "source": [
    "#data and templates are all in binary form and we compare bit by bit\n",
    "#define data register. Completely arbitrary, n is the number of qubits \n",
    "n=3\n",
    "nanc=1\n",
    "a=n+nanc\n",
    "p=3\n",
    "data_in=1"
   ]
  },
  {
   "cell_type": "markdown",
   "metadata": {},
   "source": [
    "### creating the quantum registers"
   ]
  },
  {
   "cell_type": "code",
   "execution_count": 4,
   "metadata": {},
   "outputs": [],
   "source": [
    "def binary_input(data_in, n=False):\n",
    "    #Return the binary representation of the input number as a string\n",
    "    if n:\n",
    "        data_in = np.binary_repr(int(data_in), width=n)\n",
    "    else:\n",
    "        data_in = np.binary_repr(int(data_in))\n",
    "    return data_in"
   ]
  },
  {
   "cell_type": "code",
   "execution_count": 5,
   "metadata": {},
   "outputs": [],
   "source": [
    "#to store the right templates\n",
    "data = QuantumRegister(n,'data')\n",
    "#the registers used to check, the last qubit is the ancilla\n",
    "templates=QuantumRegister(a,'templates')\n",
    "#the classical register to store the results\n",
    "result=ClassicalRegister(p,'result')\n",
    "#the counting register\n",
    "counting=QuantumRegister(p,'counting')\n",
    "#make the counting register in superposition\n",
    "search_Circuit=QuantumCircuit(data,templates,counting,result)"
   ]
  },
  {
   "cell_type": "code",
   "execution_count": 6,
   "metadata": {},
   "outputs": [],
   "source": [
    "data_in = binary_input(data_in,n=n)\n",
    "for i,binary in enumerate(data_in[::-1]):\n",
    "    if str(binary)=='1':\n",
    "        search_Circuit.x(data[i])"
   ]
  },
  {
   "cell_type": "code",
   "execution_count": 7,
   "metadata": {},
   "outputs": [
    {
     "data": {
      "image/png": "[encoded data removed]",
      "text/plain": [
       "<Figure size 298.727x686.28 with 1 Axes>"
      ]
     },
     "execution_count": 7,
     "metadata": {},
     "output_type": "execute_result"
    }
   ],
   "source": [
    "#search qubits are initialised to 0 while the ancilla is initialised to 1\n",
    "search_Circuit.x(templates[n])\n",
    "#Hadmard gate is applied to all qubits\n",
    "search_Circuit.h(templates[0:a]) \n",
    "#counting qubits are initilised to + as well\n",
    "search_Circuit.h(counting) \n",
    "#search_Circuit.x(counting[0]) \n",
    "#search_Circuit.x(counting[1]) \n",
    "search_Circuit.draw(output=\"mpl\")"
   ]
  },
  {
   "cell_type": "code",
   "execution_count": 8,
   "metadata": {},
   "outputs": [],
   "source": [
    "job = execute(search_Circuit, backend)\n",
    "Matrix01=np.round(job.result().get_unitary(search_Circuit, decimals=3),8)\n",
    "#print (Matrix1.shape)\n",
    "#print(np.round(Matrix1,8))"
   ]
  },
  {
   "cell_type": "markdown",
   "metadata": {},
   "source": [
    "## Creating Grover's gate "
   ]
  },
  {
   "cell_type": "code",
   "execution_count": 9,
   "metadata": {},
   "outputs": [],
   "source": [
    "#unfortunately qiskit does not have ccccx gate so we have to define\n",
    "#This is good because we dont have to put in number of qubits by hand\n",
    "from qiskit.circuit.library.standard_gates import XGate,ZGate\n",
    "def controlx(n):\n",
    "    cx_gate = XGate().control(n)\n",
    "    return cx_gate\n",
    "def controlz(n):\n",
    "    cz_gate = ZGate().control(n)\n",
    "    return cz_gate"
   ]
  },
  {
   "cell_type": "markdown",
   "metadata": {},
   "source": [
    "### Creating the Oracle function"
   ]
  },
  {
   "cell_type": "code",
   "execution_count": 10,
   "metadata": {},
   "outputs": [],
   "source": [
    "#templace matching oracle\n",
    "#data bit match with template bit\n",
    "#cx: is a classical AND gate, the result is on the second qubit.  ,templates,data\n",
    "def template_matching_oracle(qc,ndata):\n",
    "    '''\n",
    "    inputregister is the superposition of templates \n",
    "    data is what we are comparing with\n",
    "    we are comparing bit by bit, and only when all the comparison is positive we should have 1 in the result register\n",
    "    #qubits = circuit.qubits\n",
    "    #cr=ClassicalRegister(nqubits)\n",
    "    #the two registers should have the same number of qubits\n",
    "    '''\n",
    "    qubits=qc.qubits\n",
    "    #nqubits = len(templates)-1\n",
    "    #qc=QuantumCircuit(templates,data)\n",
    "    for qubit in range(ndata):\n",
    "        #comparing data with templates qubit by qubit, first is the controll bit\n",
    "        qc.cx(qubit, qubit+ndata)\n",
    "        #cx gives a 0 if they match. so x-gates are needed \n",
    "        qc.x(qubit+ndata)\n",
    "    '''\n",
    "    now is the magic: ancilla qubit which is in the |-> state, with a cccc-x, would if and only if\n",
    "    adopt a - sign when all bits match\n",
    "    shame here need to manually change how many control with regard to how many qubits in the template register\n",
    "    '''\n",
    "    #qcmin=QuantumCircuit(templates)\n",
    "    #unfortunately we need to hardcode the control gate in\n",
    "    cx_gate=controlx(ndata)\n",
    "    qc.append(cx_gate,[ndata]+[*range(ndata+1,ndata+ndata+1)])\n",
    "    #qc.ccccx(templates[0:nqubits],ancilla)\n",
    "    #reverse the previous processes to restore the template register\n",
    "    for qubit in range(ndata):\n",
    "        qc.x(qubit+ndata)\n",
    "        qc.cx(qubit, qubit+ndata)\n",
    "    #reverse the ancilla bit\n",
    "    #qc.h(2*ndata)\n",
    "    return (qc)\n",
    "        "
   ]
  },
  {
   "cell_type": "code",
   "execution_count": 11,
   "metadata": {},
   "outputs": [
    {
     "data": {
      "text/plain": [
       "'\\noracle_circuit=QuantumCircuit(templates,data)\\noracle_circuit=template_matching_oracle(templates,data)\\noracle_circuit.draw(output=\\'mpl\\')\\ntemplate_matching_oracle(search_Circuit,n)\\nsearch_Circuit.draw(output=\"mpl\")'"
      ]
     },
     "execution_count": 11,
     "metadata": {},
     "output_type": "execute_result"
    }
   ],
   "source": [
    "#test oracle\n",
    "'''\n",
    "oracle_circuit=QuantumCircuit(templates,data)\n",
    "oracle_circuit=template_matching_oracle(templates,data)\n",
    "oracle_circuit.draw(output='mpl')\n",
    "template_matching_oracle(search_Circuit,n)\n",
    "search_Circuit.draw(output=\"mpl\")'''"
   ]
  },
  {
   "cell_type": "markdown",
   "metadata": {},
   "source": [
    "### Creating the Diffusion operator function"
   ]
  },
  {
   "cell_type": "markdown",
   "metadata": {},
   "source": [
    "2|ψihψ| −IN = H\n",
    "⊗n\n",
    "(2|0ih0| −IN)H\n",
    "⊗n\n",
    ",\n",
    "where |ψi is the uniform superposition of states and IN is\n",
    "the N dimensional identity matrix. As 2|ψihψ| −IN operates\n",
    "a reflection about the |ψi, 2|0ih0| − IN operates a reflection\n",
    "about the |0i. It turns out that Grover diffusion can be implemented on a quantum circuit with a phase shift operator that\n",
    "negates all the states except for |0i sandwiched between H\n",
    "⊗n\n",
    "gates (see Section III for the implementation). More detailed\n",
    "explanations can be found in Nielsen and Chuang [17]."
   ]
  },
  {
   "cell_type": "code",
   "execution_count": 12,
   "metadata": {},
   "outputs": [],
   "source": [
    "#diffusion operator\n",
    "def DiffOpe(qc,ndata):\n",
    "    #nqubit = len(templates)-1\n",
    "    #qc=QuantumCircuit(templates)\n",
    "    #the hadmard  \n",
    "    controlqubits=ndata-1\n",
    "    cz_gate=controlz(controlqubits)\n",
    "    for qubit in range(ndata):\n",
    "        qc.h(ndata+qubit)\n",
    "        qc.x(ndata+qubit)\n",
    "    #the phase change, again, we need to hardcode it now\n",
    "    qc.append(cz_gate,[ndata]+[*range(ndata+1,ndata+ndata)])\n",
    "    #reverse the process to restore the register\n",
    "    for qubit in range(ndata):\n",
    "        qc.x(ndata+qubit)\n",
    "        qc.h(ndata+qubit)\n",
    "\n",
    "    return (qc)"
   ]
  },
  {
   "cell_type": "markdown",
   "metadata": {},
   "source": [
    "## Quantum phase estimation\n",
    "Estimate the number of repetitions needed for multiple matches"
   ]
  },
  {
   "cell_type": "markdown",
   "metadata": {},
   "source": [
    "### Controlled Grover's Gate\n",
    "We can use .to_gate() and .control() to create a controlled gate from a circuit. We will call our Grover iterator grit and the controlled Grover iterator cgrit\n",
    "All those controlled gate functions in qiskit is difficult for this situation because they apply to gates, but our grovers operation is only a function. So either we can rewrite this as a gate or we define our controlled funcion, which I chose the latter. And because it is controlled by qubits one by one in the counting register it is possible to write"
   ]
  },
  {
   "cell_type": "code",
   "execution_count": 13,
   "metadata": {},
   "outputs": [],
   "source": [
    "#making Grover's algorithm into a gate\n",
    "def GroverGate(qc,ndata):\n",
    "    qc = template_matching_oracle(qc,ndata)\n",
    "    qc = DiffOpe(qc,ndata)\n",
    "    return qc"
   ]
  },
  {
   "cell_type": "code",
   "execution_count": 14,
   "metadata": {
    "scrolled": true
   },
   "outputs": [],
   "source": [
    "GateCircuit=QuantumCircuit(data,templates)\n",
    "GateCircuit=GroverGate(GateCircuit,n)\n",
    "#GateCicuit.draw(output=\"mpl\")  \n",
    "#C_Grover = GateCircuit.to_gate().control()\n",
    "#print (C_Grover.num_qubits)\n",
    "G_Grover = GateCircuit.to_gate()\n",
    "G_Grover.label = \"GroverGate\"\n",
    "C_Grover = G_Grover.control()\n",
    "#cgrit.label = \"Grover\"\n",
    "#list(range(1,9))"
   ]
  },
  {
   "cell_type": "code",
   "execution_count": 15,
   "metadata": {},
   "outputs": [
    {
     "data": {
      "image/png": "[encoded data removed]",
      "text/plain": [
       "<Figure size 1562.93x686.28 with 1 Axes>"
      ]
     },
     "execution_count": 15,
     "metadata": {},
     "output_type": "execute_result"
    }
   ],
   "source": [
    "#the controlled Grover gate part in QPE\n",
    "iteration=1\n",
    "#looping through all the counting qubits\n",
    "for countingqubit in np.arange(n+a,n+a+p):\n",
    "    for i in np.arange(iteration):\n",
    "        #this loop is to apply grovers 2^p times\n",
    "        search_Circuit.append(C_Grover, [countingqubit]+[*range(0,n+a)])\n",
    "    iteration *=2\n",
    "search_Circuit.draw(output=\"mpl\")"
   ]
  },
  {
   "cell_type": "code",
   "execution_count": null,
   "metadata": {},
   "outputs": [],
   "source": [
    "job = execute(search_Circuit, backend)\n",
    "Matrix012=np.round(job.result().get_unitary(search_Circuit, decimals=3),8)\n",
    "#print (Matrix12.shape)\n",
    "#print(np.round(Matrix12,8))"
   ]
  },
  {
   "cell_type": "code",
   "execution_count": null,
   "metadata": {},
   "outputs": [],
   "source": [
    "def qft(n):\n",
    "    \"\"\"Creates an n-qubit QFT circuit\"\"\"\n",
    "    circuit = QuantumCircuit(n)\n",
    "    def swap_registers(circuit, n):\n",
    "        for qubit in range(n//2):\n",
    "            circuit.swap(qubit, n-qubit-1)\n",
    "        return circuit\n",
    "    def qft_rotations(circuit, n):\n",
    "        \"\"\"Performs qft on the first n qubits in circuit (without swaps)\"\"\"\n",
    "        if n == 0:\n",
    "            return circuit\n",
    "        n -= 1\n",
    "        circuit.h(n)\n",
    "        for qubit in range(n):\n",
    "            circuit.cu1(np.pi/2**(n-qubit), qubit, n)\n",
    "        qft_rotations(circuit, n)\n",
    "    \n",
    "    qft_rotations(circuit, n)\n",
    "    swap_registers(circuit, n)\n",
    "    return circuit"
   ]
  },
  {
   "cell_type": "code",
   "execution_count": null,
   "metadata": {},
   "outputs": [],
   "source": [
    "#measuring the counting qubits and output k_t\n",
    "qft_dagger = qft(p).to_gate().inverse()\n",
    "qft_dagger.label = \"QFT†\"\n",
    "search_Circuit.append(qft_dagger, list(range(n+a,n+a+p)))\n",
    "search_Circuit.draw(output=\"mpl\")"
   ]
  },
  {
   "cell_type": "code",
   "execution_count": null,
   "metadata": {},
   "outputs": [],
   "source": [
    "job = execute(search_Circuit, backend)\n",
    "Matrix0123=np.round(job.result().get_unitary(search_Circuit, decimals=3),8)\n",
    "#print (Matrix123.shape)\n",
    "#print(np.round(Matrix123,8))"
   ]
  },
  {
   "cell_type": "code",
   "execution_count": null,
   "metadata": {},
   "outputs": [],
   "source": [
    "search_Circuit.measure(list(range(n+a,n+a+p)), result[list(range(p))])\n",
    "search_Circuit.draw(output=\"mpl\")"
   ]
  },
  {
   "cell_type": "code",
   "execution_count": null,
   "metadata": {
    "scrolled": true
   },
   "outputs": [],
   "source": [
    "emulator = Aer.get_backend('qasm_simulator')\n",
    "runs = 10000\n",
    "job = execute(search_Circuit, emulator, shots=runs)\n",
    "hist = job.result().get_counts()\n",
    "plot_histogram(hist)"
   ]
  },
  {
   "cell_type": "code",
   "execution_count": null,
   "metadata": {},
   "outputs": [],
   "source": [
    "#to store the right templates\n",
    "data = QuantumRegister(n,'data')\n",
    "#the registers used to check, the last qubit is the ancilla\n",
    "templates=QuantumRegister(a,'templates')\n",
    "#the classical register to store the results\n",
    "result=ClassicalRegister(p,'result')\n",
    "#the counting register\n",
    "counting=QuantumRegister(p,'counting')\n",
    "#make the counting register in superposition\n",
    "search_Circuit=QuantumCircuit(data,templates,counting,result)"
   ]
  },
  {
   "cell_type": "code",
   "execution_count": null,
   "metadata": {},
   "outputs": [],
   "source": [
    "data_in = binary_input(data_in,n=n)\n",
    "for i,binary in enumerate(data_in[::-1]):\n",
    "    if str(binary)=='1':\n",
    "        search_Circuit.x(data[i])\n",
    "search_Circuit.draw(output=\"mpl\")"
   ]
  },
  {
   "cell_type": "code",
   "execution_count": null,
   "metadata": {},
   "outputs": [],
   "source": [
    "job = execute(search_Circuit, backend)\n",
    "Matrix0=np.round(job.result().get_unitary(search_Circuit, decimals=3),8)\n",
    "#print (Matrix0.shape)\n",
    "#print(np.round(Matrix0,8))"
   ]
  },
  {
   "cell_type": "code",
   "execution_count": null,
   "metadata": {},
   "outputs": [],
   "source": [
    "#to store the right templates\n",
    "data = QuantumRegister(n,'data')\n",
    "#the registers used to check, the last qubit is the ancilla\n",
    "templates=QuantumRegister(a,'templates')\n",
    "#the classical register to store the results\n",
    "result=ClassicalRegister(p,'result')\n",
    "#the counting register\n",
    "counting=QuantumRegister(p,'counting')\n",
    "#make the counting register in superposition\n",
    "search_Circuit=QuantumCircuit(data,templates,counting,result)"
   ]
  },
  {
   "cell_type": "code",
   "execution_count": null,
   "metadata": {},
   "outputs": [],
   "source": [
    "#search qubits are initialised to 0 while the ancilla is initialised to 1\n",
    "search_Circuit.x(templates[n])\n",
    "#Hadmard gate is applied to all qubits\n",
    "search_Circuit.h(templates[0:a]) \n",
    "#counting qubits are initilised to + as well\n",
    "search_Circuit.h(counting) \n",
    "search_Circuit.draw(output=\"mpl\")"
   ]
  },
  {
   "cell_type": "code",
   "execution_count": null,
   "metadata": {},
   "outputs": [],
   "source": [
    "job = execute(search_Circuit, backend)\n",
    "Matrix1=np.round(job.result().get_unitary(search_Circuit, decimals=3),8)\n",
    "#print (Matrix2.shape)\n",
    "#print(np.round(Matrix2,8))"
   ]
  },
  {
   "cell_type": "code",
   "execution_count": null,
   "metadata": {},
   "outputs": [],
   "source": [
    "#to store the right templates\n",
    "data = QuantumRegister(n,'data')\n",
    "#the registers used to check, the last qubit is the ancilla\n",
    "templates=QuantumRegister(a,'templates')\n",
    "#the classical register to store the results\n",
    "result=ClassicalRegister(p,'result')\n",
    "#the counting register\n",
    "counting=QuantumRegister(p,'counting')\n",
    "#make the counting register in superposition\n",
    "search_Circuit=QuantumCircuit(data,templates,counting,result)"
   ]
  },
  {
   "cell_type": "code",
   "execution_count": null,
   "metadata": {},
   "outputs": [],
   "source": [
    "#the controlled Grover gate part in QPE\n",
    "iteration=1\n",
    "#looping through all the counting qubits\n",
    "for countingqubit in np.arange(n+a,n+a+p):\n",
    "    for i in np.arange(iteration):\n",
    "        #this loop is to apply grovers 2^p times\n",
    "        search_Circuit.append(C_Grover, [countingqubit]+[*range(0,n+a)])\n",
    "    iteration *=2\n",
    "search_Circuit.draw(output=\"mpl\")"
   ]
  },
  {
   "cell_type": "code",
   "execution_count": null,
   "metadata": {},
   "outputs": [],
   "source": [
    "job = execute(search_Circuit, backend)\n",
    "Matrix2=np.round(job.result().get_unitary(search_Circuit, decimals=3),8)\n",
    "#print (Matrix2.shape)\n",
    "#print(np.round(Matrix2,8))"
   ]
  },
  {
   "cell_type": "code",
   "execution_count": null,
   "metadata": {},
   "outputs": [],
   "source": [
    "#to store the right templates\n",
    "data = QuantumRegister(n,'data')\n",
    "#the registers used to check, the last qubit is the ancilla\n",
    "templates=QuantumRegister(a,'templates')\n",
    "#the classical register to store the results\n",
    "result=ClassicalRegister(p,'result')\n",
    "#the counting register\n",
    "counting=QuantumRegister(p,'counting')\n",
    "#make the counting register in superposition\n",
    "search_Circuit=QuantumCircuit(data,templates,counting,result)"
   ]
  },
  {
   "cell_type": "code",
   "execution_count": null,
   "metadata": {},
   "outputs": [],
   "source": [
    "#measuring the counting qubits and output k_t\n",
    "qft_dagger = qft(p).to_gate().inverse()\n",
    "qft_dagger.label = \"QFT†\"\n",
    "search_Circuit.append(qft_dagger, list(range(n+a,n+a+p)))\n",
    "search_Circuit.draw(output=\"mpl\")"
   ]
  },
  {
   "cell_type": "code",
   "execution_count": null,
   "metadata": {
    "scrolled": true
   },
   "outputs": [],
   "source": [
    "job = execute(search_Circuit, backend)\n",
    "Matrix3=np.round(job.result().get_unitary(search_Circuit, decimals=3),8)\n",
    "#print (Matrix3.shape)\n",
    "#print(np.round(Matrix3,8))"
   ]
  },
  {
   "cell_type": "code",
   "execution_count": null,
   "metadata": {},
   "outputs": [],
   "source": [
    "def IQFT(P):\n",
    "    '''\n",
    "    Constructing the inverse fourier transform of size PxP.\n",
    "    '''\n",
    "    return np.round(\n",
    "            np.array([[(np.exp(-2.*i*j*1j*np.pi/P)) \n",
    "                   for j in np.arange(P)] \n",
    "                    for i in np.arange(P)]),1)*1./np.sqrt(P)"
   ]
  },
  {
   "cell_type": "code",
   "execution_count": null,
   "metadata": {},
   "outputs": [],
   "source": [
    "np.sum(np.round(IQFT(2**p),8)!=0.)"
   ]
  },
  {
   "cell_type": "code",
   "execution_count": null,
   "metadata": {},
   "outputs": [],
   "source": [
    "np.sum(Matrix3!=0.)"
   ]
  },
  {
   "cell_type": "code",
   "execution_count": null,
   "metadata": {},
   "outputs": [],
   "source": [
    "#the counting register\n",
    "counting=QuantumRegister(p,'counting')\n",
    "#make the counting register in superposition\n",
    "search_Circuit=QuantumCircuit(counting)"
   ]
  },
  {
   "cell_type": "code",
   "execution_count": null,
   "metadata": {},
   "outputs": [],
   "source": [
    "#measuring the counting qubits and output k_t\n",
    "qft_dagger = qft(p).to_gate().inverse()\n",
    "qft_dagger.label = \"QFT†\"\n",
    "search_Circuit.append(qft_dagger, list(range(0,p)))\n",
    "search_Circuit.draw(output=\"mpl\")"
   ]
  },
  {
   "cell_type": "code",
   "execution_count": null,
   "metadata": {},
   "outputs": [],
   "source": [
    "job = execute(search_Circuit, backend)\n",
    "Matrixqft=np.round(job.result().get_unitary(search_Circuit, decimals=8),8)"
   ]
  },
  {
   "cell_type": "code",
   "execution_count": null,
   "metadata": {},
   "outputs": [],
   "source": [
    "print(Matrixqft-np.round(IQFT(2**p),8))"
   ]
  },
  {
   "cell_type": "code",
   "execution_count": null,
   "metadata": {},
   "outputs": [],
   "source": [
    "np.round(np.matmul(Matrix2,np.matmul(Matrix1, Matrix0)),8)"
   ]
  },
  {
   "cell_type": "code",
   "execution_count": null,
   "metadata": {},
   "outputs": [],
   "source": [
    "Matrix012"
   ]
  },
  {
   "cell_type": "code",
   "execution_count": null,
   "metadata": {},
   "outputs": [],
   "source": [
    "Matrix012 - np.round(np.matmul(Matrix2,np.matmul(Matrix1, Matrix0)),8)"
   ]
  },
  {
   "cell_type": "code",
   "execution_count": null,
   "metadata": {},
   "outputs": [],
   "source": [
    "Matrix3"
   ]
  },
  {
   "cell_type": "code",
   "execution_count": null,
   "metadata": {},
   "outputs": [],
   "source": [
    "Matrix0123 - np.round(np.matmul(Matrix3,np.matmul(Matrix2,np.matmul(Matrix1, Matrix0))),8)"
   ]
  },
  {
   "cell_type": "code",
   "execution_count": null,
   "metadata": {},
   "outputs": [],
   "source": [
    "Matrix12 = np.matmul(Matrix2, Matrix1)"
   ]
  },
  {
   "cell_type": "code",
   "execution_count": null,
   "metadata": {},
   "outputs": [],
   "source": [
    "Matrix123 = np.matmul(Matrix3, Matrix12)"
   ]
  },
  {
   "cell_type": "code",
   "execution_count": null,
   "metadata": {},
   "outputs": [],
   "source": [
    "instate = np.zeros(2**(p+n+a))\n",
    "instate[3] = 1.\n",
    "\n",
    "outstate = np.matmul(Matrix0,instate)\n",
    "print(outstate)"
   ]
  },
  {
   "cell_type": "code",
   "execution_count": null,
   "metadata": {
    "scrolled": true
   },
   "outputs": [],
   "source": [
    "outstate12 = np.matmul(Matrix12,instate)\n",
    "print(np.absolute(outstate12)**2)\n",
    "plt.plot(np.absolute(outstate12)**2)\n",
    "plt.show()"
   ]
  },
  {
   "cell_type": "code",
   "execution_count": null,
   "metadata": {},
   "outputs": [],
   "source": [
    "instate = np.zeros(2**(p+n+a))\n",
    "instate[3] = 1.\n",
    "\n",
    "outstate12 = np.matmul(Matrix12,instate)\n",
    "outstate12 = outstate12.reshape(2**p,2**nanc,2**n,2**n)\n",
    "print(np.sum(np.absolute(outstate12)**2,axis=(1,2,3)))\n",
    "print(np.sum(np.absolute(outstate12)**2,axis=(0,2,3)))\n",
    "print(np.sum(np.absolute(outstate12)**2,axis=(0,1,3)))\n",
    "print(np.sum(np.absolute(outstate12)**2,axis=(0,1,2)))"
   ]
  },
  {
   "cell_type": "code",
   "execution_count": null,
   "metadata": {},
   "outputs": [],
   "source": [
    "instate = np.zeros(2**(p+n+a))\n",
    "instate[3] = 1.\n",
    "instate = instate.reshape(2**p,2**nanc,2**n,2**n)"
   ]
  },
  {
   "cell_type": "code",
   "execution_count": null,
   "metadata": {},
   "outputs": [],
   "source": [
    "from mpl_toolkits.mplot3d import Axes3D\n",
    "from matplotlib import cm\n",
    "\n",
    "instate = np.zeros(2**(p+n+a))\n",
    "instate[3] = 1.\n",
    "\n",
    "outstate12 = np.matmul(Matrix12,instate)\n",
    "outstate12 = outstate12.reshape(2**p,2**nanc,2**n,2**n)\n",
    "\n",
    "X, Y = np.meshgrid(np.arange(2**p), np.arange(2**n))\n",
    "Z=np.sum(np.absolute(outstate12)**2,axis=(1,3)).T\n",
    "fig = plt.figure(figsize=(10,7))\n",
    "ax = fig.gca(projection='3d')\n",
    "\n",
    "surf = ax.plot_surface(X, Y, Z, cmap=cm.coolwarm,\n",
    "                       linewidth=0, antialiased=False)\n",
    "\n",
    "ax.set_xlabel(r'$P$')\n",
    "ax.set_ylabel(r'$N$')\n",
    "ax.set_zlabel('State probability')\n",
    "\n",
    "plt.show()"
   ]
  },
  {
   "cell_type": "code",
   "execution_count": null,
   "metadata": {},
   "outputs": [],
   "source": [
    "from mpl_toolkits.mplot3d import Axes3D\n",
    "from matplotlib import cm\n",
    "\n",
    "instate = np.zeros(2**(p+n+a))\n",
    "instate[3] = 1.\n",
    "\n",
    "outstate123 = np.matmul(Matrix123,instate)\n",
    "outstate123 = outstate123.reshape(2**p,2**nanc,2**n,2**n)\n",
    "\n",
    "X, Y = np.meshgrid(np.arange(2**p), np.arange(2**n))\n",
    "Z=np.sum(np.absolute(outstate123)**2,axis=(1,3)).T\n",
    "fig = plt.figure(figsize=(10,7))\n",
    "ax = fig.gca(projection='3d')\n",
    "\n",
    "surf = ax.plot_surface(X, Y, Z, cmap=cm.coolwarm,\n",
    "                       linewidth=0, antialiased=False)\n",
    "\n",
    "ax.set_xlabel(r'$P$')\n",
    "ax.set_ylabel(r'$N$')\n",
    "ax.set_zlabel('State probability')\n",
    "\n",
    "plt.show()"
   ]
  },
  {
   "cell_type": "code",
   "execution_count": null,
   "metadata": {},
   "outputs": [],
   "source": [
    "instate = np.zeros(2**(p+n+a))\n",
    "instate[3] = 1.\n",
    "\n",
    "outstate123 = np.matmul(Matrix123,instate)\n",
    "outstate123 = outstate123.reshape(2**p,2**nanc,2**n,2**n)\n",
    "print(np.sum(np.absolute(outstate123)**2,axis=(1,2,3)))\n",
    "print(np.sum(np.absolute(outstate123)**2,axis=(0,2,3)))\n",
    "print(np.sum(np.absolute(outstate123)**2,axis=(0,1,3)))\n",
    "print(np.sum(np.absolute(outstate123)**2,axis=(0,1,2)))"
   ]
  },
  {
   "cell_type": "code",
   "execution_count": null,
   "metadata": {},
   "outputs": [],
   "source": [
    "Matrixqft"
   ]
  },
  {
   "cell_type": "code",
   "execution_count": null,
   "metadata": {},
   "outputs": [],
   "source": [
    "#np.outer(np.round(IQFT(2**p),8),np.eye(2),np.eye(2**n),np.eye(2**n))\n",
    "#print(np.outer(np.eye(2**n),np.eye(2**n)).shape)\n",
    "print(np.eye(2**(n+n+nanc)))\n",
    "print(np.outer(np.round(IQFT(2**p),8),np.eye(2**(n+n+nanc))).shape)\n",
    "#print(np.round(IQFT(2**p),8).shape)"
   ]
  },
  {
   "cell_type": "code",
   "execution_count": null,
   "metadata": {},
   "outputs": [],
   "source": [
    "def proper_outer_sq(A,B):\n",
    "    AB = np.outer(A,B).reshape(A.shape[0],A.shape[1],B.shape[0],B.shape[1])\n",
    "    AB = AB.transpose(0,2,1,3).reshape(A.shape[0]*B.shape[0],A.shape[1]*B.shape[1])\n",
    "    return AB"
   ]
  },
  {
   "cell_type": "code",
   "execution_count": null,
   "metadata": {},
   "outputs": [],
   "source": [
    "Dop = np.eye(2**n)\n",
    "Top = np.eye(2**n)\n",
    "aop = np.eye(2**nanc)\n",
    "Cop = np.round(IQFT(2**p),8)\n",
    "\n",
    "Matrix3_T = proper_outer_sq(Cop,proper_outer_sq(aop,proper_outer_sq(Top,Dop)))"
   ]
  },
  {
   "cell_type": "code",
   "execution_count": null,
   "metadata": {},
   "outputs": [],
   "source": [
    "np.matmul(Matrix3_T,Matrix12)"
   ]
  },
  {
   "cell_type": "code",
   "execution_count": null,
   "metadata": {},
   "outputs": [],
   "source": [
    "from mpl_toolkits.mplot3d import Axes3D\n",
    "from matplotlib import cm\n",
    "\n",
    "instate = np.zeros(2**(p+n+a))\n",
    "instate[3] = 1.\n",
    "\n",
    "outstate12 = np.matmul(Matrix12,instate)\n",
    "\n",
    "outstate123_T = np.matmul(Matrix3_T,outstate12)\n",
    "\n",
    "outstate123_T = outstate123_T.reshape(2**p,2**nanc,2**n,2**n)\n",
    "\n",
    "X, Y = np.meshgrid(np.arange(2**p), np.arange(2**n))\n",
    "Z=np.sum(np.absolute(outstate123_T)**2,axis=(1,3)).T\n",
    "fig = plt.figure(figsize=(10,7))\n",
    "ax = fig.gca(projection='3d')\n",
    "\n",
    "surf = ax.plot_surface(X, Y, Z, cmap=cm.coolwarm,\n",
    "                       linewidth=0, antialiased=False)\n",
    "\n",
    "ax.set_xlabel(r'$P$')\n",
    "ax.set_ylabel(r'$N$')\n",
    "ax.set_zlabel('State probability')\n",
    "\n",
    "plt.show()"
   ]
  },
  {
   "cell_type": "code",
   "execution_count": null,
   "metadata": {},
   "outputs": [],
   "source": [
    "print(Matrix3 - Matrix3_T)"
   ]
  },
  {
   "cell_type": "code",
   "execution_count": null,
   "metadata": {},
   "outputs": [],
   "source": [
    "instate = np.zeros(2**(p+n+a))\n",
    "instate[2] = 1.\n",
    "\n",
    "outstate12 = np.matmul(Matrix12,instate)\n",
    "outstate12 = outstate12.reshape(2**p,2**nanc,2**n,2**n)\n",
    "\n",
    "outstate12_flat = outstate12[:,0,:,2]/np.sqrt(np.sum(np.absolute(outstate12[:,0,:,2])**2))\n",
    "\n",
    "print(np.real(outstate12_flat))\n",
    "\n",
    "X, Y = np.meshgrid(np.arange(2**p), np.arange(2**n))\n",
    "Z = np.real(outstate12_flat.T)#np.absolute(outstate12_flat.T)**2\n",
    "fig = plt.figure(figsize=(10,7))\n",
    "ax = fig.gca(projection='3d')\n",
    "\n",
    "surf = ax.plot_surface(X, Y, Z, cmap=cm.coolwarm,\n",
    "                       linewidth=0, antialiased=False)\n",
    "\n",
    "ax.set_xlabel(r'$P$')\n",
    "ax.set_ylabel(r'$N$')\n",
    "ax.set_zlabel('State amplitude')\n",
    "\n",
    "plt.show()"
   ]
  },
  {
   "cell_type": "code",
   "execution_count": null,
   "metadata": {},
   "outputs": [],
   "source": [
    "instate = np.zeros(2**(p+n+a))\n",
    "instate[3] = 1.\n",
    "\n",
    "outstate12 = np.matmul(Matrix12,instate)\n",
    "outstate12 = outstate12.reshape(2**p,2**nanc,2**n,2**n)\n",
    "\n",
    "outstate12_flat = outstate12[:,0,:,3]/np.sqrt(np.sum(np.absolute(outstate12[:,0,:,3])**2))\n",
    "outstate123_flat = np.dot(IQFT(2**p),outstate12_flat)\n",
    "\n",
    "print(np.real(outstate12_flat.T))\n",
    "\n",
    "X, Y = np.meshgrid(np.arange(2**p), np.arange(2**n))\n",
    "Z = np.absolute(outstate123_flat.T)**2#np.real(outstate123_flat.T)#np.absolute(outstate123_flat.T)**2\n",
    "fig = plt.figure(figsize=(10,7))\n",
    "ax = fig.gca(projection='3d')\n",
    "\n",
    "surf = ax.plot_surface(X, Y, Z, cmap=cm.coolwarm,\n",
    "                       linewidth=0, antialiased=False)\n",
    "\n",
    "ax.set_xlabel(r'$P$')\n",
    "ax.set_ylabel(r'$N$')\n",
    "ax.set_zlabel('State probability')\n",
    "\n",
    "plt.show()"
   ]
  },
  {
   "cell_type": "code",
   "execution_count": null,
   "metadata": {},
   "outputs": [],
   "source": []
  }
 ],
 "metadata": {
  "kernelspec": {
   "display_name": "Python 3",
   "language": "python",
   "name": "python3"
  },
  "language_info": {
   "codemirror_mode": {
    "name": "ipython",
    "version": 3
   },
   "file_extension": ".py",
   "mimetype": "text/x-python",
   "name": "python",
   "nbconvert_exporter": "python",
   "pygments_lexer": "ipython3",
   "version": "3.8.5"
  }
 },
 "nbformat": 4,
 "nbformat_minor": 4
}
