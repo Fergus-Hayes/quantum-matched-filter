{
 "cells": [
  {
   "cell_type": "code",
   "execution_count": 1,
   "metadata": {},
   "outputs": [],
   "source": [
    "%matplotlib inline\n",
    "# Importing standard Qiskit libraries and configuring account\n",
    "from qiskit import QuantumCircuit, QuantumRegister, ClassicalRegister, execute, Aer, IBMQ\n",
    "from qiskit.compiler import transpile, assemble\n",
    "from qiskit.tools.jupyter import *\n",
    "from qiskit.visualization import *\n",
    "import math\n",
    "import numpy as np\n",
    "import matplotlib.pyplot as plt\n",
    "import matplotlib\n",
    "# Loading your IBM Q account(s)\n",
    "#provider = IBMQ.load_account()\n",
    "#need to everything in one circuit for it to plot"
   ]
  },
  {
   "cell_type": "code",
   "execution_count": 2,
   "metadata": {},
   "outputs": [],
   "source": [
    "matplotlib.rc('text', usetex = True)\n",
    "matplotlib.rc('font', **{'family' : \"sans-serif\"})\n",
    "params= {'text.latex.preamble' : [r'\\usepackage{amsmath}']}\n",
    "figsize=(10,8)\n",
    "width=0.75\n",
    "color='black'"
   ]
  },
  {
   "cell_type": "markdown",
   "metadata": {},
   "source": [
    "# Step 1: Initialisation \n"
   ]
  },
  {
   "cell_type": "code",
   "execution_count": 3,
   "metadata": {},
   "outputs": [],
   "source": [
    "#data and templates are all in binary form and we compare bit by bit\n",
    "#define the registers. Completely arbitrary.\n",
    "#n is the number of qubits(data and templates); nanc is the number of ancilla qubit; \n",
    "#p is the number of precision; nt is the number of qubits we are not comparing, starting from the 0th\n",
    "n=5\n",
    "nanc=1\n",
    "a=n+nanc\n",
    "#p=5\n",
    "nt=1"
   ]
  },
  {
   "cell_type": "code",
   "execution_count": 4,
   "metadata": {},
   "outputs": [
    {
     "name": "stdout",
     "output_type": "stream",
     "text": [
      "5\n"
     ]
    }
   ],
   "source": [
    "p=int(np.round(np.log2(2*np.pi)+0.5*(n-nt)))\n",
    "print(p)"
   ]
  },
  {
   "cell_type": "markdown",
   "metadata": {},
   "source": [
    "### 1.1 creating registers"
   ]
  },
  {
   "cell_type": "code",
   "execution_count": 5,
   "metadata": {},
   "outputs": [],
   "source": [
    "#to store the right templates\n",
    "data = QuantumRegister(n,'data')\n",
    "#the registers used to check, the last qubit is the ancilla\n",
    "templates=QuantumRegister(a,'templates')\n",
    "#the classical register to store the results, of the counting process and the final search process seperately\n",
    "result_counting=ClassicalRegister(p,'result')\n",
    "result_answer=ClassicalRegister(n,'answer')\n",
    "#the counting register\n",
    "counting=QuantumRegister(p,'counting')\n",
    "#make the counting register in superposition\n",
    "search_Circuit=QuantumCircuit(data,templates,counting,result_counting)"
   ]
  },
  {
   "cell_type": "markdown",
   "metadata": {},
   "source": [
    "### 1.2 Initialising registers"
   ]
  },
  {
   "cell_type": "markdown",
   "metadata": {},
   "source": [
    "This is to set the data we are matching agaisnt.\n",
    "\n",
    "In the case of have multiple matching templates, we shall not use 'search_Circuit.h(data[0])'. This will create two data that we are matching agaist, rather than two natching templates. In this case, both data would run as superpostions and so will the matching result. In essense, it is still one template searching so no untilitisation of quantum counting.\n",
    "\n",
    "The Z-gate on the counting qubit is to conpensate the general $\\phi$ phase introduced by the Diffusion operator function.\n",
    "\n"
   ]
  },
  {
   "cell_type": "code",
   "execution_count": 6,
   "metadata": {},
   "outputs": [
    {
     "data": {
      "text/plain": [
       "<qiskit.circuit.instructionset.InstructionSet at 0x7f9db5014550>"
      ]
     },
     "execution_count": 6,
     "metadata": {},
     "output_type": "execute_result"
    }
   ],
   "source": [
    "#data is 0110 \n",
    "search_Circuit.x(data[1])\n",
    "search_Circuit.x(data[2])"
   ]
  },
  {
   "cell_type": "code",
   "execution_count": 7,
   "metadata": {},
   "outputs": [
    {
     "data": {
      "image/png": "[encoded data removed]",
      "text/plain": [
       "<Figure size 298.727x1047.48 with 1 Axes>"
      ]
     },
     "execution_count": 7,
     "metadata": {},
     "output_type": "execute_result"
    }
   ],
   "source": [
    "#search qubits are initialised to 0 while the ancilla is initialised to 1\n",
    "search_Circuit.x(templates[n])\n",
    "#Hadmard gate is applied to all qubits\n",
    "search_Circuit.h(templates[0:a]) \n",
    "#counting qubits are initilised to + as well\n",
    "search_Circuit.h(counting) \n",
    "search_Circuit.z(counting[0]) \n",
    "#search_Circuit.x(counting[0]) \n",
    "#search_Circuit.x(counting[1]) \n",
    "search_Circuit.draw(output=\"mpl\")"
   ]
  },
  {
   "cell_type": "markdown",
   "metadata": {},
   "source": [
    "# Step 2: Creating Grover's gate "
   ]
  },
  {
   "cell_type": "code",
   "execution_count": 8,
   "metadata": {},
   "outputs": [],
   "source": [
    "1126259463#unfortunately qiskit does not have ccccx gate so we have to define\n",
    "#This is good because we dont have to put in number of qubits by hand\n",
    "from qiskit.circuit.library.standard_gates import XGate,ZGate\n",
    "def controlx(n):\n",
    "    cx_gate = XGate().control(n)\n",
    "    return cx_gate\n",
    "def controlz(n):\n",
    "    cz_gate = ZGate().control(n)\n",
    "    return cz_gate"
   ]
  },
  {
   "cell_type": "markdown",
   "metadata": {},
   "source": [
    "### 2.1 Creating the Oracle function"
   ]
  },
  {
   "cell_type": "code",
   "execution_count": 9,
   "metadata": {},
   "outputs": [],
   "source": [
    "#templace matching oracle: one template\n",
    "#data bit match with template bit\n",
    "#cx: is a classical AND gate, the result is on the second qubit.  ,templates,data\n",
    "def template_matching_oracle(qc,ndata):\n",
    "    '''\n",
    "    inputregister is the superposition of templates \n",
    "    data is what we are comparing with\n",
    "    we are comparing bit by bit, and only when all the comparison is positive we should have 1 in the result register\n",
    "    qc: the quantum cirsuit this function is performing on\n",
    "    ndata: number of data\n",
    "    '''\n",
    "    qubits=qc.qubits\n",
    "    \n",
    "    ''' #this is the one template case\n",
    "    for qubit in range(ndata):\n",
    "        #comparing data with templates qubit by qubit, first is the controll bit\n",
    "        qc.cx(qubit, qubit+ndata)\n",
    "        #cx gives a 0 if they match. so x-gates are needed \n",
    "        qc.x(qubit+ndata)'''\n",
    "    #this is for two templates\n",
    "    for qubit in range(1,ndata):\n",
    "        #comparing data with templates qubit by qubit, first is the controll bit\n",
    "        qc.cx(qubit, qubit+ndata)\n",
    "        #cx gives a 0 if they match. so x-gates are needed \n",
    "        qc.x(qubit+ndata)\n",
    "    \n",
    "    '''\n",
    "    now is the magic: ancilla qubit which is in the |-> state, with a cccc-x, would if and only if\n",
    "    adopt a - sign when all bits match\n",
    "    shame here need to manually change how many control with regard to how many qubits in the template register\n",
    "    '''\n",
    "    #qcmin=QuantumCircuit(templates)\n",
    "    #unfortunately we need to hardcode the control gate in\n",
    "    '''\n",
    "    cx_gate=controlx(ndata)\n",
    "    qc.append(cx_gate,[ndata]+[*range(ndata+1,ndata+ndata+1)])'''\n",
    "    cx_gate=controlx(ndata-1)\n",
    "    qc.append(cx_gate,[*range(ndata+1,ndata+ndata+1)])\n",
    "    \n",
    "    #reverse the previous processes to restore the template register\n",
    "    for qubit in range(1,ndata):\n",
    "        qc.x(qubit+ndata)\n",
    "        qc.cx(qubit, qubit+ndata)\n",
    "    #reverse the ancilla bit\n",
    "    #qc.h(2*ndata)\n",
    "    #return (qc)\n",
    "        "
   ]
  },
  {
   "cell_type": "markdown",
   "metadata": {},
   "source": [
    "The oracle works by matching data and template bit by bit in the qubit range within the precision. We use a C-X gate for matching, in which case, the template qubits would be, and only be in state $|0⟩$ if it is a match. After bit flipping, by applying a C-X gate ctrolled by all the template qubits, the ancilla qubit would be and only be flipped if all templates qubits matched. After the matching, we need to reverse all the previous actions on the templates qubits."
   ]
  },
  {
   "cell_type": "code",
   "execution_count": 10,
   "metadata": {},
   "outputs": [],
   "source": [
    "1126259463#multiple template matching oracle\n",
    "\n",
    "def template_matching_oracle_multi(qc,ndata,num_match):\n",
    "    '''\n",
    "    num_match: number of qubit we are not matching, yielding 2**num_match matching templates.\n",
    "    qc: the quantum cirsuit this function is performing on\n",
    "    ndata: number of data   \n",
    "    '''\n",
    "    #this is the case the from top (qubit0), then that number of qubits are not involved in the match\n",
    "    for qubit in range(nt,ndata):\n",
    "        #comparing data with templates qubit by qubit, first is the controll bit\n",
    "        qc.cx(qubit, qubit+ndata)\n",
    "        #cx gives a 0 if they match. so x-gates are needed \n",
    "        qc.x(qubit+ndata)\n",
    "    \n",
    "    '''\n",
    "    now is the magic: ancilla qubit which is in the |-> state, with a cccc-x, would if and only if\n",
    "    adopt a - sign when all bits match\n",
    "    '''\n",
    "    cx_gate=controlx(ndata-nt)\n",
    "    #the control-x gate only works on the templates being matched\n",
    "    qc.append(cx_gate,[*range(ndata+nt,ndata+ndata+1)])\n",
    "    \n",
    "    #reverse the previous processes to restore the template register\n",
    "    for qubit in range(nt, ndata):\n",
    "        qc.x(qubit+ndata)\n",
    "        qc.cx(qubit, qubit+ndata)\n"
   ]
  },
  {
   "cell_type": "code",
   "execution_count": 11,
   "metadata": {},
   "outputs": [
    {
     "data": {
      "text/plain": [
       "\"\\noracle_circuit=QuantumCircuit(data,templates)\\ntemplate_matching_oracle_multi(oracle_circuit,n,nt)\\noracle_circuit =transpile(oracle_circuit,basis_gates=['u3','cx','id'],optimization_level=3)\\noracle_circuit.draw(output='mpl')\\n\""
      ]
     },
     "execution_count": 11,
     "metadata": {},
     "output_type": "execute_result"
    }
   ],
   "source": [
    "#test oracle\n",
    "'''\n",
    "oracle_circuit=QuantumCircuit(data,templates)\n",
    "template_matching_oracle_multi(oracle_circuit,n,nt)\n",
    "oracle_circuit =transpile(oracle_circuit,basis_gates=['u3','cx','id'],optimization_level=3)\n",
    "oracle_circuit.draw(output='mpl')\n",
    "'''\n",
    "\n"
   ]
  },
  {
   "cell_type": "markdown",
   "metadata": {},
   "source": [
    "### 2.2 Creating the Diffusion operator function"
   ]
  },
  {
   "cell_type": "markdown",
   "metadata": {},
   "source": [
    "The diffusion operator can be written as:\n",
    "$$\n",
    "2|\\psi⟩⟨\\psi| −\\hat{\\rm I}_N = \\hat{H}^{\\otimes n}(2|0⟩⟨0| −\\hat{\\rm I}_N)\\hat{H}^{\\otimes n}\n",
    "$$\n",
    ", where $|\\psi⟩$ is the uniform superposition of states and $\\hat{\\rm I}$ is the N dimensional identity matrix. As $2|\\psi⟩⟨\\psi| −\\hat{\\rm I}_N$ operates a reflection about the $|\\psi⟩$, $2|0⟩⟨0| −\\hat{\\rm I}_N)$ operates a reflection\n",
    "about the $|0⟩$. It turns out that Grover diffusion can be implemented on a quantum circuit with a phase shift operator that\n",
    "negates all the states except for $|0⟩$ sandwiched between $\\hat{H}^{\\otimes n}$ gates. More detailed\n",
    "explanations can be found in Nielsen and Chuang [17].\n",
    "\n",
    "However, this actually introduce an overall -1 to all states. This would not change the results of Grover's searching part, but will affect the quantum counting part, introducing an overall $\\pi$ phase. This is solved by applying a Z-Gate to the lowest qubit in the counting register. (All the other qubits represents powers of two, which will result in the Z-Gate being applyied even times, producing just a 1 rather than -1)"
   ]
  },
  {
   "cell_type": "code",
   "execution_count": 12,
   "metadata": {},
   "outputs": [],
   "source": [
    "1126259463#diffusion operator\n",
    "def DiffOpe(qc,ndata):\n",
    "    #nqubit = len(templates)-1\n",
    "    #qc=QuantumCircuit(templates)\n",
    "    #the hadmard  \n",
    "    controlqubits=ndata-1\n",
    "    cz_gate=controlz(controlqubits)\n",
    "    for qubit in range(ndata):\n",
    "        qc.h(ndata+qubit)\n",
    "        qc.x(ndata+qubit)\n",
    "    #the phase change, again, we need to hardcode it now\n",
    "    qc.append(cz_gate,[ndata]+[*range(ndata+1,ndata+ndata)])\n",
    "    #reverse the process to restore the register\n",
    "    for qubit in range(ndata):\n",
    "        qc.x(ndata+qubit)\n",
    "        qc.h(ndata+qubit)\n",
    "\n",
    "    #return (qc)\n",
    "        \n",
    "    \n"
   ]
  },
  {
   "cell_type": "markdown",
   "metadata": {},
   "source": [
    "# Step 3: Quantum Counting\n",
    "Estimate the number of repetitions needed for multiple matches"
   ]
  },
  {
   "cell_type": "markdown",
   "metadata": {},
   "source": [
    "### 3.1 Controlled Grover's Gate\n",
    "We can use .to_gate() and .control() to create a controlled gate from a circuit. We will call our Grover iterator grit and the controlled Grover iterator cgrit. All those controlled gate functions in qiskit is difficult for this situation because they apply to gates, but our grovers operation is only a function. So either we can rewrite this as a gate or we define our controlled funcion, which I chose the latter. And because it is controlled by qubits one by one in the counting register it is possible to write"
   ]
  },
  {
   "cell_type": "code",
   "execution_count": 13,
   "metadata": {},
   "outputs": [],
   "source": [
    "#making Grover's algorithm into a gate\n",
    "def GroverGate(qc,ndata,num_match):\n",
    "    #template_matching_oracle(qc,ndata)\n",
    "    template_matching_oracle_multi(qc,ndata,num_match)\n",
    "    DiffOpe(qc,ndata)\n",
    "    return qc"
   ]
  },
  {
   "cell_type": "code",
   "execution_count": 14,
   "metadata": {},
   "outputs": [],
   "source": [
    "GateCircuit=QuantumCircuit(data,templates)\n",
    "GateCircuit=GroverGate(GateCircuit,n,nt)\n",
    "#GateCicuit.draw(output=\"mpl\")  \n",
    "#C_Grover = GateCircuit.to_gate().control()\n",
    "#print (C_Grover.num_qubits)\n",
    "G_Grover = GateCircuit.to_gate()\n",
    "G_Grover.label = \"GroverGate\"\n",
    "C_Grover = G_Grover.control()\n",
    "#cgrit.label = \"Grover\"\n",
    "#list(range(1,9))"
   ]
  },
  {
   "cell_type": "markdown",
   "metadata": {},
   "source": [
    "### 3.2 Applying the controlled Grover's Gate"
   ]
  },
  {
   "cell_type": "code",
   "execution_count": 15,
   "metadata": {},
   "outputs": [],
   "source": [
    "#the controlled Grover gate part in QPE\n",
    "iteration=1\n",
    "#looping through all the counting qubits\n",
    "for countingqubit in np.arange(n+a,n+a+p):\n",
    "    for i in np.arange(iteration):\n",
    "        #this loop is to apply grovers 2^p times\n",
    "        search_Circuit.append(C_Grover, [countingqubit]+[*range(0,n+a)])\n",
    "    iteration *=2\n",
    "#search_Circuit.draw(output=\"mpl\")"
   ]
  },
  {
   "cell_type": "code",
   "execution_count": 16,
   "metadata": {},
   "outputs": [],
   "source": [
    "#search_Circuit =transpile(search_Circuit,basis_gates=['u3','cx','id'],optimization_level=3)"
   ]
  },
  {
   "cell_type": "code",
   "execution_count": 17,
   "metadata": {},
   "outputs": [],
   "source": [
    "#search_Circuit.draw(output='mpl')\n"
   ]
  },
  {
   "cell_type": "markdown",
   "metadata": {},
   "source": [
    "### 3.3 Define and Apply QFT"
   ]
  },
  {
   "cell_type": "code",
   "execution_count": 18,
   "metadata": {},
   "outputs": [],
   "source": [
    "def qft(n):\n",
    "    \"\"\"Creates an n-qubit QFT circuit\"\"\"\n",
    "    circuit = QuantumCircuit(n)\n",
    "    def swap_registers(circuit, n):\n",
    "        for qubit in range(n//2):\n",
    "            circuit.swap(qubit, n-qubit-1)\n",
    "        return circuit\n",
    "    def qft_rotations(circuit, n):\n",
    "        \"\"\"Performs qft on the first n qubits in circuit (without swaps)\"\"\"\n",
    "        if n == 0:\n",
    "            return circuit\n",
    "        n -= 1\n",
    "        circuit.h(n)\n",
    "        for qubit in range(n):\n",
    "            circuit.cp(np.pi/2**(n-qubit), qubit, n)\n",
    "        qft_rotations(circuit, n)\n",
    "    \n",
    "    qft_rotations(circuit, n)\n",
    "    swap_registers(circuit, n)\n",
    "    return circuit"
   ]
  },
  {
   "cell_type": "code",
   "execution_count": 19,
   "metadata": {},
   "outputs": [
    {
     "data": {
      "text/plain": [
       "<qiskit.circuit.instructionset.InstructionSet at 0x7f9de48a08d0>"
      ]
     },
     "execution_count": 19,
     "metadata": {},
     "output_type": "execute_result"
    }
   ],
   "source": [
    "#measuring the counting qubits and output k_t\n",
    "qft_dagger = qft(p).to_gate().inverse()\n",
    "qft_dagger.label = \"QFT†\"\n",
    "# Do inverse QFT on counting qubits\n",
    "search_Circuit.append(qft_dagger, list(range(n+a,n+a+p)))\n",
    "# Measure counting qubits\n",
    "search_Circuit.measure(list(range(n+a,n+a+p)), result_counting[list(range(p))])\n",
    "#search_Circuit.draw(output=\"mpl\")\n"
   ]
  },
  {
   "cell_type": "code",
   "execution_count": 20,
   "metadata": {
    "scrolled": true
   },
   "outputs": [],
   "source": [
    "shots=2048\n",
    "emulator = Aer.get_backend('qasm_simulator')\n",
    "job = execute(search_Circuit, emulator, shots=shots )\n",
    "hist = job.result().get_counts()\n",
    "\n"
   ]
  },
  {
   "cell_type": "code",
   "execution_count": 21,
   "metadata": {},
   "outputs": [],
   "source": [
    "plot_histogram(hist).savefig('result_n_'+str(n)+'_p_'+str(p)+'_nt_'+str(nt)+'_'+'og'+'.png')"
   ]
  },
  {
   "cell_type": "code",
   "execution_count": 22,
   "metadata": {},
   "outputs": [],
   "source": [
    "def binary_input(data_ins, n=False):\n",
    "    #Return the binary representation of the input number as a string\n",
    "    data_outs=[]\n",
    "    for data_in in data_ins:\n",
    "        if n:\n",
    "            data_outs.append(np.binary_repr(int(data_in), width=n)) \n",
    "            \n",
    "        else:\n",
    "            data_outs.append(np.binary_repr(int(data_in)))\n",
    "    return np.array(data_outs)\n"
   ]
  },
  {
   "cell_type": "code",
   "execution_count": 23,
   "metadata": {},
   "outputs": [],
   "source": [
    "labels=np.arange(2**p)\n",
    "labels=binary_input(labels,p)\n"
   ]
  },
  {
   "cell_type": "code",
   "execution_count": 24,
   "metadata": {},
   "outputs": [
    {
     "name": "stdout",
     "output_type": "stream",
     "text": [
      "dict_keys(['00000', '00001', '10000', '10001', '10010', '10011', '10100', '10101', '10110', '10111', '11000', '11001', '11010', '11011', '11100', '11101', '11110', '11111', '00010', '00011', '00100', '00101', '00110', '00111', '01000', '01001', '01010', '01100', '01110', '01111'])\n",
      "['00000' '00001' '00010' '00011' '00100' '00101' '00110' '00111' '01000'\n",
      " '01001' '01010' '01011' '01100' '01101' '01110' '01111' '10000' '10001'\n",
      " '10010' '10011' '10100' '10101' '10110' '10111' '11000' '11001' '11010'\n",
      " '11011' '11100' '11101' '11110' '11111']\n"
     ]
    },
    {
     "data": {
      "image/png": "[encoded data removed]",
      "text/plain": [
       "<Figure size 720x576 with 1 Axes>"
      ]
     },
     "metadata": {
      "needs_background": "light"
     },
     "output_type": "display_data"
    }
   ],
   "source": [
    "#labels = hist.keys()\n",
    "probs=[]\n",
    "print(hist.keys())\n",
    "for key in labels:\n",
    "    if np.any(np.array([*hist.keys()])==key):    \n",
    "        probs.append(hist[key]/shots) \n",
    "    else:\n",
    "        probs.append(0) \n",
    "    #print(hist[key])\n",
    "#print(probs)\n",
    "print(labels)\n",
    "fig = plt.figure(figsize=figsize)\n",
    "plt.bar(labels,probs,width=width,color=color)\n",
    "plt.xticks(rotation='vertical')\n",
    "plt.xlabel(r'$b$')\n",
    "plt.ylabel(r'$p(b)$')\n",
    "plt.savefig('result_n_'+str(n)+'_p_'+str(p)+'_nt_'+str(nt)+'_new.png')\n",
    "plt.show()"
   ]
  },
  {
   "cell_type": "code",
   "execution_count": 25,
   "metadata": {
    "scrolled": false
   },
   "outputs": [
    {
     "name": "stdout",
     "output_type": "stream",
     "text": [
      "0.4970703125\n",
      "2.8487229862475445\n",
      "2.3425376619667198\n",
      "1.5305350900801717\n"
     ]
    },
    {
     "data": {
      "image/png": "[encoded data removed]",
      "text/plain": [
       "<Figure size 720x576 with 1 Axes>"
      ]
     },
     "metadata": {
      "needs_background": "light"
     },
     "output_type": "display_data"
    }
   ],
   "source": [
    "probs = np.array(probs)\n",
    "probs_fold = probs[:int(len(probs)/2)]# + probs[int(len(probs)/2):][::-1]\n",
    "\n",
    "print(np.sum(probs_fold))\n",
    "\n",
    "probs_fold = probs_fold/np.sum(probs_fold)\n",
    "\n",
    "mu = np.sum(probs_fold*np.arange(len(probs_fold)))\n",
    "var = np.sum(probs_fold*np.arange(len(probs_fold))**2) - mu**2\n",
    "sd = np.sqrt(var)\n",
    "\n",
    "print(mu)\n",
    "print(var)\n",
    "print(sd)\n",
    "\n",
    "fig = plt.figure(figsize=figsize)\n",
    "plt.bar(labels[:int(len(probs)/2)],probs_fold,width=width,color=color)\n",
    "plt.xticks(rotation='vertical')\n",
    "plt.axvline(mu-sd,ls=':')\n",
    "plt.axvline(mu,ls='--')\n",
    "plt.axvline(mu+sd,ls=':')\n",
    "plt.xlabel(r'\\textrm{Template}')\n",
    "plt.ylabel(r'\\textrm{Probability}')\n",
    "plt.show()\n",
    "plt.close()"
   ]
  },
  {
   "cell_type": "code",
   "execution_count": 26,
   "metadata": {},
   "outputs": [
    {
     "name": "stdout",
     "output_type": "stream",
     "text": [
      "0.5029296875\n",
      "13.014563106796118\n",
      "2.6609529644641157\n",
      "1.6312427668695164\n"
     ]
    },
    {
     "data": {
      "image/png": "[encoded data removed]",
      "text/plain": [
       "<Figure size 720x576 with 1 Axes>"
      ]
     },
     "metadata": {
      "needs_background": "light"
     },
     "output_type": "display_data"
    }
   ],
   "source": [
    "probs = np.array(probs)\n",
    "probs_fold = probs[int(len(probs)/2):]\n",
    "\n",
    "print(np.sum(probs_fold))\n",
    "\n",
    "probs_fold = probs_fold/np.sum(probs_fold)\n",
    "\n",
    "mu = np.sum(probs_fold*np.arange(len(probs_fold)))\n",
    "var = np.sum(probs_fold*np.arange(len(probs_fold))**2) - mu**2\n",
    "sd = np.sqrt(var)\n",
    "\n",
    "print(mu)\n",
    "print(var)\n",
    "print(sd)\n",
    "\n",
    "fig = plt.figure(figsize=figsize)\n",
    "plt.bar(labels[int(len(probs)/2):],probs_fold,width=width,color=color)\n",
    "plt.xticks(rotation='vertical')\n",
    "plt.axvline(mu-sd,ls=':')\n",
    "plt.axvline(mu,ls='--')\n",
    "plt.axvline(mu+sd,ls=':')\n",
    "plt.xlabel(r'\\textrm{Template}')\n",
    "plt.ylabel(r'\\textrm{Probability}')\n",
    "plt.show()\n",
    "plt.close()"
   ]
  },
  {
   "cell_type": "code",
   "execution_count": 27,
   "metadata": {
    "scrolled": true
   },
   "outputs": [
    {
     "data": {
      "image/png": "[encoded data removed]",
      "text/plain": [
       "<Figure size 720x576 with 1 Axes>"
      ]
     },
     "metadata": {
      "needs_background": "light"
     },
     "output_type": "display_data"
    }
   ],
   "source": [
    "probs=[]\n",
    "entry=[]\n",
    "#print(hist.keys())\n",
    "for key in hist.keys():\n",
    "    if np.any(np.array(hist[key]/shots)>=0.001): \n",
    "        entry.append(key)\n",
    "        probs.append(hist[key]/shots) \n",
    "fig = plt.figure(figsize=figsize)\n",
    "plt.bar(entry,probs,width=width,color=color)\n",
    "plt.xticks(rotation='vertical')\n",
    "plt.xlabel(r'\\textrm{Template}')\n",
    "plt.ylabel(r'\\textrm{Probability}')\n",
    "plt.savefig('result_n_'+str(n)+'_p_'+str(p)+'_nt_'+str(nt)+'_clean.png')\n",
    "plt.show()\n"
   ]
  },
  {
   "cell_type": "code",
   "execution_count": 28,
   "metadata": {},
   "outputs": [
    {
     "name": "stdout",
     "output_type": "stream",
     "text": [
      "Register Output = 29\n"
     ]
    }
   ],
   "source": [
    "measured_str = max(hist, key=hist.get)\n",
    "measured_int = int(measured_str,2)\n",
    "print(\"Register Output = %i\" % measured_int)"
   ]
  },
  {
   "cell_type": "markdown",
   "metadata": {},
   "source": [
    "Because there are two eigenvalues and we do not know which one is the measure value. We need to run them both and choose the more reasonable one."
   ]
  },
  {
   "cell_type": "code",
   "execution_count": 29,
   "metadata": {},
   "outputs": [
    {
     "name": "stdout",
     "output_type": "stream",
     "text": [
      "2.1666666666666665\n"
     ]
    }
   ],
   "source": [
    "kt=float(2**(p-2)/measured_int-1/2)\n",
    "if kt<= 0:\n",
    "    kt=float(1/(4*(1-measured_int/2**p))-1/2)\n",
    "print (kt)\n",
    "#kt1=float(1/(4*(1-measured_int/2**p))-1/2)\n",
    "#print (kt1)"
   ]
  },
  {
   "cell_type": "markdown",
   "metadata": {},
   "source": [
    "Calculating how many matched templates there are"
   ]
  },
  {
   "cell_type": "code",
   "execution_count": 30,
   "metadata": {},
   "outputs": [
    {
     "name": "stdout",
     "output_type": "stream",
     "text": [
      "2.6964862031592753\n"
     ]
    }
   ],
   "source": [
    "theta_t=np.pi/(2*(2*kt+1))\n",
    "num_template=np.sin(theta_t)**2*2**n\n",
    "print (num_template)"
   ]
  },
  {
   "cell_type": "code",
   "execution_count": 31,
   "metadata": {},
   "outputs": [
    {
     "name": "stdout",
     "output_type": "stream",
     "text": [
      "2.6082688394304085\n"
     ]
    }
   ],
   "source": [
    "# This is the calculated value of how many times Grover's Gate need to be applied\n",
    "ktt=float(np.pi/4 *1/np.arcsin(np.sqrt((2**nt)/2**n))-0.5)\n",
    "#ktt=np.floor(ktt)\n",
    "print (ktt)"
   ]
  },
  {
   "cell_type": "markdown",
   "metadata": {},
   "source": [
    "## Step 4: Search for the template(s)"
   ]
  },
  {
   "cell_type": "code",
   "execution_count": 32,
   "metadata": {},
   "outputs": [
    {
     "data": {
      "text/plain": [
       "<qiskit.circuit.instructionset.InstructionSet at 0x7f9db2c23780>"
      ]
     },
     "execution_count": 32,
     "metadata": {},
     "output_type": "execute_result"
    }
   ],
   "source": [
    "search_Circuit_2=QuantumCircuit(data,templates,result_answer)\n",
    "search_Circuit_2.x(data[1])\n",
    "search_Circuit_2.x(data[2])\n",
    "search_Circuit_2.x(templates[n])\n",
    "#Hadmard gate is applied to all qubits\n",
    "search_Circuit_2.h(templates[0:a]) \n",
    "#search_Circuit_2.draw(output=\"mpl\")"
   ]
  },
  {
   "cell_type": "code",
   "execution_count": 33,
   "metadata": {},
   "outputs": [],
   "source": [
    "#search_circuit=QuantumCircuit(templates,data)\n",
    "rep=0\n",
    "if np.round(kt)==0.:\n",
    "    rep=1\n",
    "else:\n",
    "    rep=np.round(kt).astype(int)\n",
    "for i in range(rep):\n",
    "    GroverGate(search_Circuit_2,n,nt)\n",
    "    \n",
    "#search_Circuit_2.draw(output='mpl')\n",
    "\n",
    "\n",
    "    \n",
    "    "
   ]
  },
  {
   "cell_type": "code",
   "execution_count": 34,
   "metadata": {},
   "outputs": [
    {
     "data": {
      "text/plain": [
       "<qiskit.circuit.instructionset.InstructionSet at 0x7f9db2c23828>"
      ]
     },
     "execution_count": 34,
     "metadata": {},
     "output_type": "execute_result"
    }
   ],
   "source": [
    "#measurement\n",
    "search_Circuit_2.measure(list(range(n,2*n)), result_answer[list(range(n))])\n"
   ]
  },
  {
   "cell_type": "code",
   "execution_count": 35,
   "metadata": {},
   "outputs": [],
   "source": [
    "#experiment with the simulator\n",
    "shots=2048\n",
    "emulator = Aer.get_backend('qasm_simulator')\n",
    "job = execute(search_Circuit_2, emulator, shots=shots )\n",
    "answer = job.result().get_counts()\n"
   ]
  },
  {
   "cell_type": "code",
   "execution_count": 36,
   "metadata": {
    "scrolled": true
   },
   "outputs": [
    {
     "data": {
      "image/png": "[encoded data removed]",
      "text/plain": [
       "<Figure size 720x576 with 1 Axes>"
      ]
     },
     "metadata": {
      "needs_background": "light"
     },
     "output_type": "display_data"
    }
   ],
   "source": [
    "#labels = hist.keys()\n",
    "labels=np.arange(2**n)\n",
    "labels=binary_input(labels,n)\n",
    "probs=[]\n",
    "#print(hist.keys())\n",
    "for key in labels:\n",
    "    if np.any(np.array([*answer.keys()])==key):    \n",
    "        probs.append(answer[key]/shots) \n",
    "    else:\n",
    "        probs.append(0) \n",
    "#print(probs)\n",
    "#print(labels)\n",
    "fig = plt.figure(figsize=figsize)\n",
    "plt.bar(labels,probs,width=width,color=color)\n",
    "plt.xticks(rotation='vertical')\n",
    "plt.xlabel(r'\\textrm{Template}')\n",
    "plt.ylabel(r'\\textrm{Probability}')\n",
    "plt.savefig('result_n_'+str(n)+'_p_'+str(p)+'_nt_'+str(nt)+'G'+'_new.png')\n",
    "plt.show()"
   ]
  },
  {
   "cell_type": "code",
   "execution_count": 37,
   "metadata": {
    "scrolled": true
   },
   "outputs": [
    {
     "data": {
      "image/png": "[encoded data removed]",
      "text/plain": [
       "<Figure size 720x576 with 1 Axes>"
      ]
     },
     "metadata": {
      "needs_background": "light"
     },
     "output_type": "display_data"
    }
   ],
   "source": [
    "probs=[]\n",
    "entry=[]\n",
    "#print(hist.keys())\n",
    "for key in answer.keys():\n",
    "    if np.any(np.array(answer[key]/shots)>=0.001): \n",
    "        entry.append(key)\n",
    "        probs.append(answer[key]/shots)\n",
    "fig = plt.figure(figsize=figsize)\n",
    "plt.bar(entry,probs,width=width,color=color)\n",
    "plt.xticks(rotation='vertical')\n",
    "plt.xlabel(r'\\textrm{Template}')\n",
    "plt.ylabel(r'\\textrm{Probability}')\n",
    "plt.savefig('result_n_'+str(n)+'_p_'+str(p)+'_nt_'+str(nt)+'Gr_clean.png')\n",
    "plt.show()"
   ]
  },
  {
   "cell_type": "code",
   "execution_count": 38,
   "metadata": {},
   "outputs": [],
   "source": [
    "plot_histogram(answer).savefig('result_n_'+str(n)+'_p_'+'_nt_'+str(nt)+str(p)+'_'+'og'+'Gr.png')\n",
    "\n",
    "    "
   ]
  },
  {
   "cell_type": "code",
   "execution_count": null,
   "metadata": {},
   "outputs": [],
   "source": []
  }
 ],
 "metadata": {
  "kernelspec": {
   "display_name": "Python 3",
   "language": "python",
   "name": "python3"
  },
  "language_info": {
   "codemirror_mode": {
    "name": "ipython",
    "version": 3
   },
   "file_extension": ".py",
   "mimetype": "text/x-python",
   "name": "python",
   "nbconvert_exporter": "python",
   "pygments_lexer": "ipython3",
   "version": "3.6.11"
  }
 },
 "nbformat": 4,
 "nbformat_minor": 4
}
