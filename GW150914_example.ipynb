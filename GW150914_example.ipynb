{
 "cells": [
  {
   "cell_type": "markdown",
   "id": "4a021fed",
   "metadata": {},
   "source": [
    "# Quantum matched filtering for GW150914"
   ]
  },
  {
   "cell_type": "code",
   "execution_count": null,
   "id": "bb365a41",
   "metadata": {},
   "outputs": [],
   "source": [
    "# Import necessary packages\n",
    "import numpy as np\n",
    "import matplotlib\n",
    "import matplotlib.pyplot as plt\n",
    "\n",
    "from misc.paper_plotting import plot_psi_1_paper, plot_psi_1_match_v_unmatch_paper\n",
    "from misc.paper_plotting import plot_psi_2_paper, plot_psi_2_t_paper, plot_psi_2_k_paper\n",
    "from misc.paper_plotting import plot_simulation\n",
    "import quantum_matched_filter_functions as qmffn\n",
    "import QMF_150914_simulation as qmfsim\n",
    "\n",
    "import time, os\n",
    "\n",
    "debug = False\n",
    "\n",
    "# Set the random number generator seed \n",
    "np.random.seed(123)#int(time.time()))"
   ]
  },
  {
   "cell_type": "code",
   "execution_count": null,
   "id": "8a8d205e",
   "metadata": {},
   "outputs": [],
   "source": [
    "fontsize=24\n",
    "ticksize=19\n",
    "matplotlib.rcParams['mathtext.fontset'] = 'stix'\n",
    "matplotlib.rcParams['font.family'] = 'STIXGeneral'\n",
    "figsize=(10,8)"
   ]
  },
  {
   "cell_type": "code",
   "execution_count": null,
   "id": "c8712192",
   "metadata": {},
   "outputs": [],
   "source": [
    "tag='GW150814_example'\n",
    "dtype='float64'\n",
    "\n",
    "load_states=True\n",
    "save_states=True\n",
    "\n",
    "path='./outpath/'"
   ]
  },
  {
   "cell_type": "code",
   "execution_count": null,
   "id": "f6211f88",
   "metadata": {},
   "outputs": [],
   "source": [
    "os.makedirs(path, exist_ok=True)"
   ]
  },
  {
   "cell_type": "code",
   "execution_count": null,
   "id": "cb724330",
   "metadata": {},
   "outputs": [],
   "source": [
    "# Set the threshold SNR\n",
    "SNR_threshold = 12.\n",
    "# Load the data (GW150914) and the corresponding psd\n",
    "Data = np.load('data/signal.npy')\n",
    "psd = np.load('data/psd.npy')"
   ]
  },
  {
   "cell_type": "code",
   "execution_count": null,
   "id": "97b29e64",
   "metadata": {},
   "outputs": [],
   "source": [
    "fig = plt.figure(figsize=figsize)\n",
    "Data_t = Data\n",
    "plt.plot(np.arange(len(Data_t)), Data_t, lw=.2, color='black')\n",
    "plt.xlabel(r'$t$ (s)', fontsize=fontsize)\n",
    "plt.ylabel(r'$x(t)$ ($10^{-25}$)', fontsize=fontsize)\n",
    "plt.xticks(fontsize=ticksize)\n",
    "plt.yticks(fontsize=ticksize)\n",
    "plt.savefig(path+'strain.png')\n",
    "plt.tight_layout()\n",
    "plt.show()"
   ]
  },
  {
   "cell_type": "code",
   "execution_count": null,
   "id": "20a65e65",
   "metadata": {},
   "outputs": [],
   "source": [
    "# Qubits for templates\n",
    "Mqubits = 17\n",
    "# Qubits for Grover's\n",
    "Pqubits = 11\n",
    "\n",
    "# Equivalent number of states\n",
    "M = 2**Mqubits\n",
    "P = 2**Pqubits"
   ]
  },
  {
   "cell_type": "code",
   "execution_count": null,
   "id": "efd0cfaa",
   "metadata": {},
   "outputs": [],
   "source": [
    "tag = str(M)+'_'+str(P)+'_'+str(SNR_threshold).replace('.','_')+'_'+tag"
   ]
  },
  {
   "cell_type": "markdown",
   "id": "93f4c522",
   "metadata": {},
   "source": [
    "First let us make the state:\n",
    "\n",
    "$$ |\\psi_{\\text{ini}}⟩ = \\frac{1}{\\sqrt{N}}\\sum^{N-1}_{i=0}|i⟩|0⟩^{\\times M}. $$\n",
    "\n",
    "This state is what the template information will be stored in. Let us also define:\n",
    "\n",
    "$$ |I⟩ = \\frac{1}{\\sqrt{M}}\\sum^{M-1}_{i=0}|i⟩. $$\n",
    "\n",
    "This state has a basis state that corresponds to the indexes of each template. We perform operation $\\hat{k}_{1}$ on this state to give a state that represent the template waveforms in the frequency domanin $|T⟩$:\n",
    "\n",
    "$$ |I⟩\\otimes |T⟩ = \\hat{k}_{1}(|I⟩\\otimes |\\psi_{\\text{ini}}⟩). $$\n",
    "\n",
    "Similarly the data is loaded into a state represented by $|D⟩$."
   ]
  },
  {
   "cell_type": "code",
   "execution_count": null,
   "id": "861708b0",
   "metadata": {},
   "outputs": [],
   "source": [
    "index_states = np.ones(M).astype(dtype)/np.sqrt(M)"
   ]
  },
  {
   "cell_type": "markdown",
   "id": "6e59a246",
   "metadata": {},
   "source": [
    "Grover's algorithm is applied after matched filtering to all templates. On a quantum computer, this can be done in parallel to give an equal amplitude state $|w⟩$ of length $N$ but any state that corresponds to the index of a template that meets the criteria of $\\rho>\\rho_{\\text{thr}}$ has a phase-flip of -1. $|w⟩$ is made by applying $\\hat{k}_{2}$:\n",
    "\n",
    "$$|I⟩\\otimes|T⟩\\otimes|D⟩\\otimes|w⟩ = \\hat{k}_{2}(|I⟩\\otimes|T⟩\\otimes|D⟩\\otimes|0⟩^{\\times N}).$$"
   ]
  },
  {
   "cell_type": "code",
   "execution_count": null,
   "id": "310e7eed",
   "metadata": {},
   "outputs": [],
   "source": [
    "if load_states and os.path.isfile(path+'snrs_'+tag+'.npy'):\n",
    "    print('Loading SNR')\n",
    "    snrs = np.load(path+'snrs_'+tag+'.npy')\n",
    "    w = np.where(snrs>=SNR_threshold,-1.,1.)/np.sqrt(M)\n",
    "elif load_states and os.path.isfile('data/SNRs_signal_spins.npy'):\n",
    "    print('Loading SNR (from data/SNRs_signal_spins.npy)')\n",
    "    snrs_ = np.load('data/SNRs_signal_spins.npy')\n",
    "    if len(snrs_)>M:\n",
    "        snrs = snrs_[::len(snrs_)//M]\n",
    "        if len(snrs)>M:\n",
    "            snrs = snrs[:M]\n",
    "        elif len(snrs)<M:\n",
    "            snrs__ = snrs_[1:][::len(snrs)//M][:M-len(snrs)]\n",
    "            snrs = np.concatenate((snrs,snrs__))\n",
    "    else:\n",
    "        snrs = snrs_\n",
    "    w = np.where(snrs>=SNR_threshold,-1.,1.)/np.sqrt(M)\n",
    "\n",
    "else:\n",
    "    print('Calculating SNR')\n",
    "    # Apply k1 and k2 to get w states\n",
    "    w, snrs = qmffn.k_12(index_states, Data, psd, threshold=SNR_threshold, bankfunc=bankfunc, temp_file=temp_file, spins=spins, cores=cores)\n",
    "    \n",
    "# Save states\n",
    "if save_states:\n",
    "    np.save(path+'/snrs_'+tag,snrs)"
   ]
  },
  {
   "cell_type": "code",
   "execution_count": null,
   "id": "330afee5",
   "metadata": {},
   "outputs": [],
   "source": [
    "M = len(w)"
   ]
  },
  {
   "cell_type": "markdown",
   "id": "20d52886",
   "metadata": {},
   "source": [
    "The first part of Grover's algorithm is then applied as follows:\n",
    "\n",
    "1. Create operator $\\hat{U}_{w}=\\mathcal{I}-2|w⟩⟨w|$ where $w$ is the matrix position corresponding to the matching templates. This operator has the property:\n",
    "\n",
    "$$ \\hat{U}_{w} |x⟩ = -|x⟩ \\text{ if } x=w, $$\n",
    "$$ \\hat{U}_{w} |x⟩ = |x⟩ \\text{ if } x\\ne w.\\ \\ \\$$\n",
    "\n",
    "2. Initiate superposition:\n",
    "\n",
    "$$ |s⟩ = \\frac{1}{\\sqrt{N}}\\sum^{N-1}_{x=0}|x⟩, $$\n",
    "\n",
    "assuming that every template is equally likely to have the correct template without any more prior knowledge.\n",
    "\n",
    "3. Create the Grover diffusion operator $\\hat{U}_{s}=2|s⟩⟨s|-\\mathcal{I}$.\n",
    "\n",
    "4. Apply $\\hat{U}_{w}$ then $\\hat{U}_{s}$ to $|s⟩$ $p$ times to each state in $P$ ($p=\\{0,1,...P-1\\}$).\n",
    "\n",
    "Now we apply Grover's algorithm itterably to this state such that:\n",
    "\n",
    "$$ |\\psi_{1}⟩ = \\hat{C}_{G}|\\psi_{0}⟩, $$\n",
    "\n",
    "where $\\hat{C}_{G}|p⟩\\otimes |x⟩\\rightarrow |p⟩\\otimes (\\hat{G})^{p}|x⟩$,\n",
    "\n",
    "and $\\hat{G}=\\hat{U_{s}}\\hat{U_{w}}$."
   ]
  },
  {
   "cell_type": "markdown",
   "id": "2799ab51",
   "metadata": {},
   "source": [
    "First we make the state:\n",
    "\n",
    "$$ |\\psi_{0}⟩ = \\frac{1}{\\sqrt{PN}}\\sum^{P-1}_{p=0}\\sum^{N-1}_{i=0}|p⟩|i⟩. $$\n"
   ]
  },
  {
   "cell_type": "code",
   "execution_count": null,
   "id": "caddca88",
   "metadata": {},
   "outputs": [],
   "source": [
    "if load_states and os.path.isfile(path+'psi1_in_'+tag+'.npy'):\n",
    "    print('Loading psi1...')\n",
    "    psi_ = np.load(path+'psi1_in_'+tag+'.npy')\n",
    "    P,M = psi_.shape\n",
    "else:\n",
    "    # Apply the first step to quantum counting\n",
    "    psi_ = qmffn.quantum_counting1(w,np.ones((M,P)).astype(dtype)/np.sqrt(M*P), dtype=dtype)\n",
    "\n",
    "# Save states\n",
    "if save_states:\n",
    "    np.save(path+'psi1_in_'+tag,psi_)"
   ]
  },
  {
   "cell_type": "code",
   "execution_count": null,
   "id": "af511b06",
   "metadata": {
    "scrolled": true
   },
   "outputs": [],
   "source": [
    "plot_psi_1_paper.main([path+'/psi1_in_'+tag+'.npy'], outpath=path)"
   ]
  },
  {
   "cell_type": "markdown",
   "id": "ed0284a3",
   "metadata": {},
   "source": [
    "### Quantum Fourier Transform\n",
    "\n",
    "The *quantum fourier transform* is much the same as it's classical counterpart but is performed on amplitude/phase information stored on the states of qubits. It transfers information stored in amplitudes in quantum states into phase information. There also exists the inverse quantum fourier transform for the reverse opperation.\n",
    "\n",
    "The quantum fourier transform acting on state $|p⟩$ gives:\n",
    "\n",
    "$$ \\mathrm{QFT}:|x⟩ \\mapsto \\frac{1}{\\sqrt{K}}\\sum^{K-1}_{k=0}e^{2\\pi i\\frac{kx}{K}}|k⟩. $$\n",
    "\n",
    "The inverse quantum fourier transform is applied across the ancillary qubits the recover the phase information from the sinusoidal behaviour in the states shown in the graph above. This requires creating a $QFT^{-1}$ operator of size $P\\times P$, which we will call $\\hat{F}_{P}$. Applying this across the ancillary states in $|\\psi_{1}⟩$:\n",
    "\n",
    "$$ \\psi_{2} = \\hat{F}_{P}\\psi_{1}. $$"
   ]
  },
  {
   "cell_type": "code",
   "execution_count": null,
   "id": "d7c05b5f",
   "metadata": {},
   "outputs": [],
   "source": [
    "if load_states and os.path.isfile(path+'psi2_in_'+tag+'.npy'):\n",
    "    print('Loading psi2...')\n",
    "    psi_ = None\n",
    "    psi = np.load(path+'psi2_in_'+tag+'.npy')\n",
    "    P,M = psi.shape\n",
    "else:\n",
    "    # Apply the second step to quantum counting\n",
    "    psi_ = qmffn.quantum_counting2(psi_)\n",
    "    psi = psi_\n",
    "    psi_ = None\n",
    "    \n",
    "# Save states\n",
    "if save_states:\n",
    "    np.save(path+'psi2_in_'+tag,psi)"
   ]
  },
  {
   "cell_type": "code",
   "execution_count": null,
   "id": "639ea17f",
   "metadata": {},
   "outputs": [],
   "source": [
    "plot_psi_2_paper.main([path+'/psi2_in_'+tag+'.npy'], outpath=path)"
   ]
  },
  {
   "cell_type": "code",
   "execution_count": null,
   "id": "87161e01",
   "metadata": {},
   "outputs": [],
   "source": [
    "plot_psi_2_k_paper.main([path+'/psi2_in_'+tag+'.npy'], outpath=path)"
   ]
  },
  {
   "cell_type": "code",
   "execution_count": null,
   "id": "fbe67921",
   "metadata": {},
   "outputs": [],
   "source": [
    "plot_psi_2_t_paper.main([path+'/psi2_in_'+tag+'.npy'], outpath=path)"
   ]
  },
  {
   "cell_type": "code",
   "execution_count": null,
   "id": "402c6519",
   "metadata": {},
   "outputs": [],
   "source": [
    "qmfsim.main(path+'psi2_in_'+tag+'.npy', path, tag, all_trials=[0,1], runs=1000)"
   ]
  },
  {
   "cell_type": "code",
   "execution_count": null,
   "id": "320fa2d8",
   "metadata": {},
   "outputs": [],
   "source": [
    "plot_simulation.main(path+'simulation_out_0_'+tag+'.npy', path+'simulation_out_1_'+tag+'.npy', path, P, N, M)"
   ]
  }
 ],
 "metadata": {
  "kernelspec": {
   "display_name": "Python 3 (ipykernel)",
   "language": "python",
   "name": "python3"
  },
  "language_info": {
   "codemirror_mode": {
    "name": "ipython",
    "version": 3
   },
   "file_extension": ".py",
   "mimetype": "text/x-python",
   "name": "python",
   "nbconvert_exporter": "python",
   "pygments_lexer": "ipython3",
   "version": "3.8.10"
  }
 },
 "nbformat": 4,
 "nbformat_minor": 5
}
